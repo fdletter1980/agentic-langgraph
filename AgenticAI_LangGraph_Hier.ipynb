{
  "cells": [
    {
      "cell_type": "code",
      "execution_count": 1,
      "id": "hSeGWnvNTOSRtzPOceKmQlcJ",
      "metadata": {
        "id": "hSeGWnvNTOSRtzPOceKmQlcJ",
        "tags": []
      },
      "outputs": [],
      "source": [
        "#!pip install -U langgraph langchain_openai langchain_community langchain-google-vertexai langchain-google-genai chromadb langgraph pypdf langchain_google_community unstructured[pdf] streamlit sentence-transformers"
      ]
    },
    {
      "cell_type": "code",
      "execution_count": null,
      "id": "OdAPZZo3cLYx",
      "metadata": {
        "id": "OdAPZZo3cLYx"
      },
      "outputs": [],
      "source": [
        "#!sudo apt update"
      ]
    },
    {
      "cell_type": "code",
      "execution_count": null,
      "id": "HAwPpMDdcs4b",
      "metadata": {
        "id": "HAwPpMDdcs4b"
      },
      "outputs": [],
      "source": [
        "#!sudo apt install python3-pip"
      ]
    },
    {
      "cell_type": "code",
      "execution_count": null,
      "id": "6D9wtsNRfel6",
      "metadata": {
        "id": "6D9wtsNRfel6"
      },
      "outputs": [],
      "source": [
        "#!pip3 install --upgrade pip setuptools wheel"
      ]
    },
    {
      "cell_type": "code",
      "execution_count": null,
      "id": "4mxaimzgV3Rl",
      "metadata": {
        "id": "4mxaimzgV3Rl"
      },
      "outputs": [],
      "source": [
        "#Libraries to be installed in addition on GCP\n",
        "#!sudo apt-get update\n",
        "#!apt-get install poppler-utils\n",
        "#! apt install tesseract-ocr\n",
        "#! apt install libtesseract-dev"
      ]
    },
    {
      "cell_type": "code",
      "execution_count": null,
      "id": "r2UGu6YxlfAf",
      "metadata": {
        "id": "r2UGu6YxlfAf"
      },
      "outputs": [],
      "source": [
        "#!python --version"
      ]
    },
    {
      "cell_type": "markdown",
      "id": "k8aXJzC-LZ7Z",
      "metadata": {
        "id": "k8aXJzC-LZ7Z"
      },
      "source": [
        "#Import Libraries"
      ]
    },
    {
      "cell_type": "code",
      "execution_count": 1,
      "id": "QvTnKRoxLP1Z",
      "metadata": {
        "colab": {
          "base_uri": "https://localhost:8080/"
        },
        "id": "QvTnKRoxLP1Z",
        "outputId": "7b1e5189-cb1e-4459-95e6-d35385819992"
      },
      "outputs": [
        {
          "name": "stderr",
          "output_type": "stream",
          "text": [
            "c:\\Users\\frede\\OneDrive\\Documents\\GitHub\\agentic-langgraph\\.venv\\Lib\\site-packages\\tqdm\\auto.py:21: TqdmWarning: IProgress not found. Please update jupyter and ipywidgets. See https://ipywidgets.readthedocs.io/en/stable/user_install.html\n",
            "  from .autonotebook import tqdm as notebook_tqdm\n",
            "USER_AGENT environment variable not set, consider setting it to identify your requests.\n"
          ]
        }
      ],
      "source": [
        "import pandas as pd\n",
        "from google.cloud import bigquery\n",
        "import sqlite3\n",
        "#import streamlit as st\n",
        "from langchain_community.tools.sql_database.tool import (\n",
        "    InfoSQLDatabaseTool,\n",
        "    ListSQLDatabaseTool,\n",
        "    QuerySQLCheckerTool,\n",
        "    QuerySQLDataBaseTool,\n",
        ")\n",
        "from langchain_community.utilities.sql_database import SQLDatabase\n",
        "from langchain_community.agent_toolkits.sql.toolkit import SQLDatabaseToolkit\n",
        "from langchain_community.agent_toolkits import SQLDatabaseToolkit\n",
        "from langchain_google_vertexai import ChatVertexAI\n",
        "from langchain_google_genai import ChatGoogleGenerativeAI\n",
        "from langchain_community.document_loaders import WebBaseLoader, PyPDFLoader\n",
        "from langchain_google_community import GCSDirectoryLoader\n",
        "from langchain_community.vectorstores import Chroma\n",
        "from langchain_google_genai import GoogleGenerativeAIEmbeddings\n",
        "from langchain_google_vertexai import VertexAIEmbeddings\n",
        "from langchain_text_splitters import RecursiveCharacterTextSplitter\n",
        "from langchain.memory import ConversationBufferMemory\n",
        "from langchain.chains import ConversationalRetrievalChain\n",
        "from langchain_core.messages import BaseMessage, HumanMessage\n",
        "from langgraph.prebuilt import create_react_agent\n",
        "from langchain.agents import AgentType, Tool, initialize_agent, AgentExecutor\n",
        "from typing import Union, Sequence, TypedDict, Annotated, List, Dict, Optional,Tuple\n",
        "from pydantic import BaseModel, Field\n",
        "from langchain_core.prompts import ChatPromptTemplate, MessagesPlaceholder\n",
        "from typing_extensions import TypedDict, Literal\n",
        "import functools\n",
        "import operator\n",
        "from langgraph.graph import END, StateGraph, START, MessagesState\n"
      ]
    },
    {
      "cell_type": "markdown",
      "id": "7fbY4vgSJ6gd",
      "metadata": {
        "id": "7fbY4vgSJ6gd"
      },
      "source": [
        "# Load Non-Structured Data"
      ]
    },
    {
      "cell_type": "code",
      "execution_count": 3,
      "id": "HHrSUa6dMbs6",
      "metadata": {
        "id": "HHrSUa6dMbs6"
      },
      "outputs": [],
      "source": [
        "import os\n",
        "from dotenv import load_dotenv\n",
        "\n",
        "load_dotenv()  # Load environment variables from .env file\n",
        "\n",
        "api_key = os.getenv(\"GOOGLE_API_KEY\")"
      ]
    },
    {
      "cell_type": "code",
      "execution_count": 4,
      "id": "3D_SCRrWJ_Yg",
      "metadata": {
        "colab": {
          "base_uri": "https://localhost:8080/"
        },
        "id": "3D_SCRrWJ_Yg",
        "outputId": "dada6b7d-fccf-429b-adff-389034b43a13"
      },
      "outputs": [],
      "source": [
        "#Load from a GCS bucket\n",
        "#pip install --upgrade --quiet  google-cloud-storage\n",
        "#from langchain_community.document_loaders import GCSDirectoryLoader\n",
        "#loader = GCSDirectoryLoader(project_name=\"YOUR PROJECT\", bucket=\"YOUR GCP BUCKET\", prefix=\"PREFIX\")\n",
        "#documents = loader.load()"
      ]
    },
    {
      "cell_type": "code",
      "execution_count": 4,
      "id": "a37e14c6",
      "metadata": {},
      "outputs": [],
      "source": [
        "#Load from local\n",
        "from langchain_community.document_loaders import PyPDFDirectoryLoader\n",
        "loader = PyPDFDirectoryLoader(\"./knowledge_base/\")\n",
        "documents = loader.load()"
      ]
    },
    {
      "cell_type": "code",
      "execution_count": 5,
      "id": "mp1Emfh6fs7X",
      "metadata": {
        "colab": {
          "base_uri": "https://localhost:8080/"
        },
        "id": "mp1Emfh6fs7X",
        "outputId": "b7174836-e889-4bd0-9692-a1b48b76acab"
      },
      "outputs": [
        {
          "name": "stdout",
          "output_type": "stream",
          "text": [
            "125\n"
          ]
        }
      ],
      "source": [
        "def split_docs(documents,chunk_size=1000,chunk_overlap=200):\n",
        "  text_splitter = RecursiveCharacterTextSplitter(chunk_size=chunk_size, chunk_overlap=chunk_overlap)\n",
        "  docs = text_splitter.split_documents(documents)\n",
        "  return docs\n",
        "\n",
        "docs = split_docs(documents)\n",
        "print(len(docs))\n"
      ]
    },
    {
      "cell_type": "code",
      "execution_count": 6,
      "id": "pZDfneYHcy7q",
      "metadata": {
        "id": "pZDfneYHcy7q"
      },
      "outputs": [],
      "source": [
        "from langchain.embeddings import SentenceTransformerEmbeddings\n",
        "from langchain_google_genai import GoogleGenerativeAIEmbeddings\n",
        "\n",
        "persist_directory = \"chroma_db\"\n",
        "#embeddings= GoogleGenerativeAIEmbeddings(model=\"models/embedding-001\")\n",
        "embeddings = VertexAIEmbeddings(model_name=\"text-embedding-005\")\n",
        "\n",
        "vectordb = Chroma.from_documents(\n",
        "    documents=docs, embedding=embeddings, persist_directory=persist_directory\n",
        ")\n",
        "\n",
        "retriever = vectordb.as_retriever()"
      ]
    },
    {
      "cell_type": "code",
      "execution_count": 7,
      "id": "qYZoaYURcr9S",
      "metadata": {
        "colab": {
          "base_uri": "https://localhost:8080/"
        },
        "id": "qYZoaYURcr9S",
        "outputId": "10fdbf65-180e-434b-b7c0-1a32ce0cea3d"
      },
      "outputs": [
        {
          "data": {
            "text/plain": [
              "4"
            ]
          },
          "execution_count": 7,
          "metadata": {},
          "output_type": "execute_result"
        }
      ],
      "source": [
        "# New\n",
        "question = \"what are the dimensions of the refridgerator?\"\n",
        "docs = vectordb.similarity_search(question)\n",
        "len(docs)"
      ]
    },
    {
      "cell_type": "code",
      "execution_count": 8,
      "id": "nqFZmsFZdS-H",
      "metadata": {
        "colab": {
          "base_uri": "https://localhost:8080/"
        },
        "id": "nqFZmsFZdS-H",
        "outputId": "34f91d5e-b78e-46f7-e71d-705c15db0c27"
      },
      "outputs": [
        {
          "data": {
            "text/plain": [
              "Document(metadata={'page': 0, 'page_label': '1', 'source': 'knowledge base\\\\FRFS2823A_EN.pdf'}, page_content='Refrigerator\\nAdjustable Temperature Drawer No\\nAir Filter Yes\\nCrisper Color Clear\\nDairy Bin No\\nDeli Drawer Yes\\nDoor Bin Color Clear\\nHumidity Controls Manual\\nInterior Lighting LED\\nProduce Keeper Ready Yes\\nProduce Keeper Included No\\nShelf Material Glass\\nWater Filter Yes\\nNumber of Adjustable Gallon Plus Door Bins 3\\nNumber of Fixed Condiment Door Bins 3\\nNumber of Fixed Gallon Plus Door Bins 1\\nNumber of Other Door Bins 2\\nTotal Number of Door Bins 9\\nNumber of Adjustable Shelves 2\\nNumber of Fixed Shelves 1\\nNumber of Crispers 2\\nIce Maker\\nIce Maker Yes\\nIce Maker Location Fresh Food Section\\nSecond Ice Maker Optional\\nExterior\\nCounter-Depth No\\nDoor Finish Smooth\\nDoor Stops Yes\\nFront Rollers Yes\\nRear Rollers Yes\\nElectrical Specifications\\nAmps @ 120 V olts 3.3 Amps\\nMinimum Circuit Required 15 Amps\\nPerformance Certifications and Approvals\\nENERGY STAR Certified Yes\\nProduct Specifications\\nFor planning purposes only.  We reserve the right to change specifications or discontinue models without notice.')"
            ]
          },
          "execution_count": 8,
          "metadata": {},
          "output_type": "execute_result"
        }
      ],
      "source": [
        "# New\n",
        "docs[0]"
      ]
    },
    {
      "cell_type": "code",
      "execution_count": 9,
      "id": "ug8KHrABmAY4",
      "metadata": {
        "id": "ug8KHrABmAY4"
      },
      "outputs": [],
      "source": [
        "# Convert loaded documents into strings by concatenating their content\n",
        "# and ignoring metadata\n",
        "def format_docs(docs):\n",
        "    return \"\\n\\n\".join(doc.page_content for doc in docs)"
      ]
    },
    {
      "cell_type": "markdown",
      "id": "k4F996YvLeAD",
      "metadata": {
        "id": "k4F996YvLeAD"
      },
      "source": [
        "# Load Structured Data"
      ]
    },
    {
      "cell_type": "code",
      "execution_count": 118,
      "id": "rLHKQjzOJ4U1",
      "metadata": {
        "id": "rLHKQjzOJ4U1"
      },
      "outputs": [],
      "source": [
        "#client = bigquery.Client()"
      ]
    },
    {
      "cell_type": "code",
      "execution_count": 10,
      "id": "G1nt4wP0Li2o",
      "metadata": {
        "id": "G1nt4wP0Li2o"
      },
      "outputs": [],
      "source": [
        "#QUERY1 = (\n",
        "#'''\n",
        "#SELECT * FROM\n",
        "#'''\n",
        "#)\n",
        "#df_c = client.query_and_wait(QUERY1).to_dataframe()"
      ]
    },
    {
      "cell_type": "code",
      "execution_count": 10,
      "id": "3p7h4Ko4LqtQ",
      "metadata": {
        "colab": {
          "base_uri": "https://localhost:8080/",
          "height": 424
        },
        "id": "3p7h4Ko4LqtQ",
        "outputId": "0f4fc98f-67ca-4934-bcbc-da1057a99374"
      },
      "outputs": [],
      "source": [
        "df = pd.read_csv(\"./knowledge_base/LG_refrigerator_sales.csv\")"
      ]
    },
    {
      "cell_type": "code",
      "execution_count": 11,
      "id": "2yF8UQX-OJFI",
      "metadata": {
        "id": "2yF8UQX-OJFI"
      },
      "outputs": [
        {
          "data": {
            "text/html": [
              "<div>\n",
              "<style scoped>\n",
              "    .dataframe tbody tr th:only-of-type {\n",
              "        vertical-align: middle;\n",
              "    }\n",
              "\n",
              "    .dataframe tbody tr th {\n",
              "        vertical-align: top;\n",
              "    }\n",
              "\n",
              "    .dataframe thead th {\n",
              "        text-align: right;\n",
              "    }\n",
              "</style>\n",
              "<table border=\"1\" class=\"dataframe\">\n",
              "  <thead>\n",
              "    <tr style=\"text-align: right;\">\n",
              "      <th></th>\n",
              "      <th>Brand</th>\n",
              "      <th>Model</th>\n",
              "      <th>Country</th>\n",
              "      <th>Year</th>\n",
              "      <th>Month</th>\n",
              "      <th>Day</th>\n",
              "      <th>Sales</th>\n",
              "    </tr>\n",
              "  </thead>\n",
              "  <tbody>\n",
              "    <tr>\n",
              "      <th>0</th>\n",
              "      <td>LG</td>\n",
              "      <td>GL-D241APZY</td>\n",
              "      <td>USA</td>\n",
              "      <td>2022</td>\n",
              "      <td>2</td>\n",
              "      <td>9</td>\n",
              "      <td>1</td>\n",
              "    </tr>\n",
              "    <tr>\n",
              "      <th>1</th>\n",
              "      <td>LG</td>\n",
              "      <td>GL-I292RPZL</td>\n",
              "      <td>Canada</td>\n",
              "      <td>2023</td>\n",
              "      <td>8</td>\n",
              "      <td>5</td>\n",
              "      <td>1</td>\n",
              "    </tr>\n",
              "    <tr>\n",
              "      <th>2</th>\n",
              "      <td>LG</td>\n",
              "      <td>GL-I292RPZL</td>\n",
              "      <td>Australia</td>\n",
              "      <td>2024</td>\n",
              "      <td>11</td>\n",
              "      <td>3</td>\n",
              "      <td>1</td>\n",
              "    </tr>\n",
              "    <tr>\n",
              "      <th>3</th>\n",
              "      <td>LG</td>\n",
              "      <td>GL-S292RDSY</td>\n",
              "      <td>India</td>\n",
              "      <td>2020</td>\n",
              "      <td>1</td>\n",
              "      <td>26</td>\n",
              "      <td>1</td>\n",
              "    </tr>\n",
              "    <tr>\n",
              "      <th>4</th>\n",
              "      <td>LG</td>\n",
              "      <td>GL-D241APZY</td>\n",
              "      <td>Australia</td>\n",
              "      <td>2022</td>\n",
              "      <td>5</td>\n",
              "      <td>4</td>\n",
              "      <td>1</td>\n",
              "    </tr>\n",
              "  </tbody>\n",
              "</table>\n",
              "</div>"
            ],
            "text/plain": [
              "  Brand        Model    Country  Year  Month  Day  Sales\n",
              "0    LG  GL-D241APZY        USA  2022      2    9      1\n",
              "1    LG  GL-I292RPZL     Canada  2023      8    5      1\n",
              "2    LG  GL-I292RPZL  Australia  2024     11    3      1\n",
              "3    LG  GL-S292RDSY      India  2020      1   26      1\n",
              "4    LG  GL-D241APZY  Australia  2022      5    4      1"
            ]
          },
          "execution_count": 11,
          "metadata": {},
          "output_type": "execute_result"
        }
      ],
      "source": [
        "df.head(5)"
      ]
    },
    {
      "cell_type": "markdown",
      "id": "OIIFw-8-UiWx",
      "metadata": {
        "id": "OIIFw-8-UiWx"
      },
      "source": [
        "# Inject DataFrame into DB"
      ]
    },
    {
      "cell_type": "code",
      "execution_count": 12,
      "id": "fEpACRlsUjyx",
      "metadata": {
        "colab": {
          "base_uri": "https://localhost:8080/"
        },
        "id": "fEpACRlsUjyx",
        "outputId": "00434d65-41ca-4f66-b883-55368dbfb371"
      },
      "outputs": [
        {
          "data": {
            "text/plain": [
              "<sqlite3.Cursor at 0x27f59c5b0c0>"
            ]
          },
          "execution_count": 12,
          "metadata": {},
          "output_type": "execute_result"
        }
      ],
      "source": [
        "connection = sqlite3.connect(\"sales.db\")\n",
        "connection.execute(\"DROP TABLE sales\")"
      ]
    },
    {
      "cell_type": "code",
      "execution_count": 13,
      "id": "kMAGW7NjU06z",
      "metadata": {
        "colab": {
          "base_uri": "https://localhost:8080/"
        },
        "id": "kMAGW7NjU06z",
        "outputId": "9a7f15bf-329e-4448-de7c-6a07521dac05"
      },
      "outputs": [
        {
          "data": {
            "text/plain": [
              "10000"
            ]
          },
          "execution_count": 13,
          "metadata": {},
          "output_type": "execute_result"
        }
      ],
      "source": [
        "df.to_sql(name=\"sales\", con=connection)"
      ]
    },
    {
      "cell_type": "code",
      "execution_count": 14,
      "id": "0me81ZUtU50k",
      "metadata": {
        "id": "0me81ZUtU50k"
      },
      "outputs": [],
      "source": [
        "db = SQLDatabase.from_uri(\"sqlite:///sales.db\")"
      ]
    },
    {
      "cell_type": "code",
      "execution_count": 15,
      "id": "Gf1rgNXV75vf",
      "metadata": {
        "id": "Gf1rgNXV75vf"
      },
      "outputs": [],
      "source": [
        "#llm = ChatVertexAI(model=\"gemini-1.5-flash-002\")\n",
        "llm = ChatGoogleGenerativeAI(model=\"gemini-1.5-flash-002\", temperature=0.1)\n",
        "#llm = ChatGoogleGenerativeAI(model=\"gemini-2.0-flash-exp\", temperature=0.5)"
      ]
    },
    {
      "cell_type": "code",
      "execution_count": 16,
      "id": "VC8yD0Y75j7d",
      "metadata": {
        "id": "VC8yD0Y75j7d"
      },
      "outputs": [],
      "source": [
        "toolkit = SQLDatabaseToolkit(db=db, llm=llm)"
      ]
    },
    {
      "cell_type": "markdown",
      "id": "4fJnqkFB-oMU",
      "metadata": {
        "id": "4fJnqkFB-oMU"
      },
      "source": [
        "# Set-up SQL Agent"
      ]
    },
    {
      "cell_type": "code",
      "execution_count": 17,
      "id": "aEUvVntR817b",
      "metadata": {
        "id": "aEUvVntR817b"
      },
      "outputs": [],
      "source": [
        "MSSQL_AGENT_SUFFIX_WITH_MEMORY= \"\"\"While generating SQL for the above query, pay attention to the below:\n",
        "\n",
        "\n",
        "\n",
        "- General Instructions:\n",
        "\n",
        "  - Do not use any LIMIT statements in SQL.\n",
        "  - Round answers to two decimal places.\n",
        "  - Avoid complicated SQL queries such as those involving division within a query.\n",
        "  - Perform operations step by step.\n",
        "  - Pay attention to all conditions mentioned in the query. Do not infer conditions.\n",
        "  - For questions on share or market share, use column=\"Amount\" unless stated otherwise explicitly.\n",
        "  - YTD or ytd = Year to Date\n",
        "   - Don't assume year as current year unless indicated so. Take data for all years unless its indicated to use a specific year\"\"\""
      ]
    },
    {
      "cell_type": "code",
      "execution_count": 18,
      "id": "PNKiQu2F5sYF",
      "metadata": {
        "id": "PNKiQu2F5sYF"
      },
      "outputs": [],
      "source": [
        "sql_agent_executor = create_react_agent(llm,tools=toolkit.get_tools(),state_modifier=MSSQL_AGENT_SUFFIX_WITH_MEMORY)"
      ]
    },
    {
      "cell_type": "code",
      "execution_count": 19,
      "id": "Ipfr4DG69Dha",
      "metadata": {
        "colab": {
          "base_uri": "https://localhost:8080/"
        },
        "id": "Ipfr4DG69Dha",
        "outputId": "397af683-489d-4fa6-d4cb-57ef0940449f"
      },
      "outputs": [
        {
          "name": "stdout",
          "output_type": "stream",
          "text": [
            "================================\u001b[1m Human Message \u001b[0m=================================\n",
            "\n",
            "How many sales are there in the databases?\n",
            "==================================\u001b[1m Ai Message \u001b[0m==================================\n",
            "Tool Calls:\n",
            "  sql_db_list_tables (8e14c8b6-7f2f-4f36-8d72-7ee1cc63c67a)\n",
            " Call ID: 8e14c8b6-7f2f-4f36-8d72-7ee1cc63c67a\n",
            "  Args:\n",
            "=================================\u001b[1m Tool Message \u001b[0m=================================\n",
            "Name: sql_db_list_tables\n",
            "\n",
            "sales\n",
            "==================================\u001b[1m Ai Message \u001b[0m==================================\n",
            "Tool Calls:\n",
            "  sql_db_schema (30e08ab5-fde0-4e09-8f4d-7e5042d9947c)\n",
            " Call ID: 30e08ab5-fde0-4e09-8f4d-7e5042d9947c\n",
            "  Args:\n",
            "    table_names: sales\n",
            "=================================\u001b[1m Tool Message \u001b[0m=================================\n",
            "Name: sql_db_schema\n",
            "\n",
            "\n",
            "CREATE TABLE sales (\n",
            "\t\"index\" INTEGER, \n",
            "\t\"Brand\" TEXT, \n",
            "\t\"Model\" TEXT, \n",
            "\t\"Country\" TEXT, \n",
            "\t\"Year\" INTEGER, \n",
            "\t\"Month\" INTEGER, \n",
            "\t\"Day\" INTEGER, \n",
            "\t\"Sales\" INTEGER\n",
            ")\n",
            "\n",
            "/*\n",
            "3 rows from sales table:\n",
            "index\tBrand\tModel\tCountry\tYear\tMonth\tDay\tSales\n",
            "0\tLG\tGL-D241APZY\tUSA\t2022\t2\t9\t1\n",
            "1\tLG\tGL-I292RPZL\tCanada\t2023\t8\t5\t1\n",
            "2\tLG\tGL-I292RPZL\tAustralia\t2024\t11\t3\t1\n",
            "*/\n",
            "==================================\u001b[1m Ai Message \u001b[0m==================================\n",
            "Tool Calls:\n",
            "  sql_db_query (4bc40a51-1149-4843-8ba2-93916a40f65f)\n",
            " Call ID: 4bc40a51-1149-4843-8ba2-93916a40f65f\n",
            "  Args:\n",
            "    query: SELECT COUNT(*) FROM sales\n",
            "=================================\u001b[1m Tool Message \u001b[0m=================================\n",
            "Name: sql_db_query\n",
            "\n",
            "[(10000,)]\n",
            "==================================\u001b[1m Ai Message \u001b[0m==================================\n",
            "\n",
            "There are 10000 sales in the database.\n"
          ]
        }
      ],
      "source": [
        "#Test a qeury with the SQL agent\n",
        "query=\"How many sales are there in the databases?\"\n",
        "\n",
        "events = sql_agent_executor.stream(\n",
        "     {\"messages\": [HumanMessage(content=query)]},\n",
        "     stream_mode=\"values\",\n",
        ")\n",
        "\n",
        "for event in events:\n",
        "   event[\"messages\"][-1].pretty_print()\n",
        "   message_content= event[\"messages\"][-1].content\n",
        "   if \"Answer:\" in message_content:\n",
        "      final_answer=message_content.split(\"Answer:\",1)[1].strip()"
      ]
    },
    {
      "cell_type": "markdown",
      "id": "ikWfsjEw-sL1",
      "metadata": {
        "id": "ikWfsjEw-sL1"
      },
      "source": [
        "# Set-up RAG Agent"
      ]
    },
    {
      "cell_type": "code",
      "execution_count": 20,
      "id": "eTV3vToePeKy",
      "metadata": {
        "id": "eTV3vToePeKy"
      },
      "outputs": [],
      "source": [
        "from langchain_core.prompts import ChatPromptTemplate\n",
        "\n",
        "RAG_PROMPT = \"\"\"\n",
        "CONTEXT:\n",
        "{context}\n",
        "\n",
        "QUERY:\n",
        "{question}\n",
        "\n",
        "Use only the provided context information to form your response. If an answer can not be found within the provided context information respond with 'The answer could not be found in the provided context.\".\n",
        "\n",
        "\"\"\"\n",
        "\n",
        "rag_prompt = ChatPromptTemplate.from_template(RAG_PROMPT)"
      ]
    },
    {
      "cell_type": "code",
      "execution_count": 21,
      "id": "f_CVgKq6LLq4",
      "metadata": {
        "id": "f_CVgKq6LLq4"
      },
      "outputs": [],
      "source": [
        "from operator import itemgetter\n",
        "from langchain.schema.output_parser import StrOutputParser\n",
        "\n",
        "#rag_chain = (\n",
        "#    {\"context\": itemgetter(\"question\") | retriever, \"question\": itemgetter(\"question\")}\n",
        "#    | rag_prompt | llm | StrOutputParser()\n",
        "#)\n",
        "\n",
        "from langchain_core.runnables import RunnablePassthrough\n",
        "\n",
        "rag_chain = (\n",
        "    {\"context\": retriever | format_docs, \"question\": RunnablePassthrough()}\n",
        "    | rag_prompt\n",
        "    | llm\n",
        "    | StrOutputParser()\n",
        ")"
      ]
    },
    {
      "cell_type": "code",
      "execution_count": 22,
      "id": "xMxjk05dLanK",
      "metadata": {
        "colab": {
          "base_uri": "https://localhost:8080/",
          "height": 53
        },
        "id": "xMxjk05dLanK",
        "outputId": "968ce040-10bf-41c4-8e6c-a38a72a70d33"
      },
      "outputs": [
        {
          "data": {
            "text/plain": [
              "'The answer could not be found in the provided context.'"
            ]
          },
          "execution_count": 22,
          "metadata": {},
          "output_type": "execute_result"
        }
      ],
      "source": [
        "rag_chain.invoke(\"What are the dimensions of the refridgerator?\")"
      ]
    },
    {
      "cell_type": "code",
      "execution_count": 23,
      "id": "r_zJAMCdNdfX",
      "metadata": {
        "id": "r_zJAMCdNdfX"
      },
      "outputs": [],
      "source": [
        "from typing import Annotated, List, Tuple, Union\n",
        "from langchain_core.tools import tool\n",
        "\n",
        "@tool\n",
        "def retrieve_information(\n",
        "    query: Annotated[str, \"query to ask the retrieve information tool\"]\n",
        "    ):\n",
        "  \"\"\"Use Retrieval Augmented Generation to retrieve information.\"\"\"\n",
        "  #return rag_chain.invoke({\"question\" : query})\n",
        "  return rag_chain.invoke(query)"
      ]
    },
    {
      "cell_type": "code",
      "execution_count": 24,
      "id": "CUdZM-25Ndm-",
      "metadata": {
        "id": "CUdZM-25Ndm-"
      },
      "outputs": [],
      "source": [
        "tools = [retrieve_information]"
      ]
    },
    {
      "cell_type": "markdown",
      "id": "c_reueFIeCze",
      "metadata": {
        "id": "c_reueFIeCze"
      },
      "source": [
        "# Utilities"
      ]
    },
    {
      "cell_type": "code",
      "execution_count": null,
      "id": "U4VmEoJ7qVCJ",
      "metadata": {
        "id": "U4VmEoJ7qVCJ"
      },
      "outputs": [],
      "source": [
        "## Structured Output Enforcement\n",
        "#class RealterInfoResponse(BaseModel):\n",
        "#    \"\"\"Respond to the user with this\"\"\"\n",
        "\n",
        "#    AGENT_ACHIEVEMENT_DESCRIPTION_AS_WAS: str = Field(description=\"What cap segment the realtor is in\")\n",
        "#    first_name: str = Field(description=\"First name of the realtor\")\n",
        "#    Contacts: float = Field(description=\"Number of contacts\")\n",
        "#    SmartPlans: float = Field(description=\"Usage of smartplans\")\n",
        "\n"
      ]
    },
    {
      "cell_type": "code",
      "execution_count": null,
      "id": "-NTlKT_5zKGE",
      "metadata": {
        "id": "-NTlKT_5zKGE"
      },
      "outputs": [],
      "source": [
        "## Structured Output Enforcement\n",
        "#model_with_tools = llm.bind_tools([RealterInfoResponse])"
      ]
    },
    {
      "cell_type": "code",
      "execution_count": 25,
      "id": "GHN66A1QDmA_",
      "metadata": {
        "id": "GHN66A1QDmA_"
      },
      "outputs": [],
      "source": [
        "# The agent state is the input to each node in the graph\n",
        "class AgentState(MessagesState):\n",
        "    # The 'next' field indicates where to route to next\n",
        "    next: str\n",
        "    # Structured Output Enforcement\n",
        "    #final_response: RealterInfoResponse"
      ]
    },
    {
      "cell_type": "code",
      "execution_count": 26,
      "id": "B3Ij72VceCIp",
      "metadata": {
        "id": "B3Ij72VceCIp"
      },
      "outputs": [],
      "source": [
        "members = [\"PDF_analyst\", \"Sql_agent\"]\n",
        "options = [\"FINISH\"] + members\n",
        "\n",
        "# The agent state is the input to each node in the graph\n",
        "class AgentState(MessagesState):\n",
        "    # The 'next' field indicates where to route to next\n",
        "    next: str\n",
        "\n",
        "\n",
        "def make_supervisor_node(llm: llm, members: list[str]) -> str:\n",
        "    options = [\"FINISH\"] + members\n",
        "    system_prompt = (\n",
        "        \"You are a supervisor tasked with managing a conversation between the\"\n",
        "        f\" following workers: {members}. Given the following user request,\"\n",
        "        \" respond with the worker to act next. Each worker will perform a\"\n",
        "        \" task and respond with their results and status. When finished,\"\n",
        "        \" respond with FINISH.\"\n",
        "    )\n",
        "\n",
        "    class Router(BaseModel):\n",
        "        \"\"\"Worker to route to next. If no workers needed, route to FINISH.\"\"\"\n",
        "\n",
        "        #next: Literal[\"FINISH\",\"PDF_Analyst\",\"Sql_agent\"]\n",
        "        next: Literal[(*options,)]\n",
        "\n",
        "    def supervisor_node(state: MessagesState) -> MessagesState:\n",
        "        \"\"\"An LLM-based router.\"\"\"\n",
        "        messages = [\n",
        "            {\"role\": \"system\", \"content\": system_prompt},\n",
        "        ] + state[\"messages\"]\n",
        "        response = llm.with_structured_output(Router).invoke(messages)\n",
        "        next_ = response.next\n",
        "        if next_ == \"FINISH\":\n",
        "            next_ = END\n",
        "\n",
        "        return {\"next\": next_}\n",
        "\n",
        "    return supervisor_node"
      ]
    },
    {
      "cell_type": "markdown",
      "id": "jiGPaxUuA3Rd",
      "metadata": {
        "id": "jiGPaxUuA3Rd"
      },
      "source": [
        "# Initialize the Research Agents"
      ]
    },
    {
      "cell_type": "code",
      "execution_count": 27,
      "id": "apsqa8ePB9nB",
      "metadata": {
        "id": "apsqa8ePB9nB"
      },
      "outputs": [],
      "source": [
        "rag_agent = create_react_agent(llm, tools=tools, state_modifier=\"You should provide RAG search.\")\n",
        "#rag_node = functools.partial(agent_node, agent=rag_agent, name=\"PDF_analyst\")\n",
        "\n",
        "def rag_node(state: AgentState) -> AgentState:\n",
        "    result = rag_agent.invoke(state)\n",
        "    return {\n",
        "        \"messages\": [\n",
        "            HumanMessage(content=result[\"messages\"][-1].content, name=\"PDF_Analyst\")\n",
        "        ]\n",
        "    }\n",
        "\n",
        "\n",
        "sql_agent = create_react_agent(llm, tools=toolkit.get_tools(), state_modifier=MSSQL_AGENT_SUFFIX_WITH_MEMORY)\n",
        "#sql_node = functools.partial(agent_node, agent=sql_agent, name=\"Sql_agent\")\n",
        "def sql_node(state: AgentState) -> AgentState:\n",
        "    result = sql_agent.invoke(state)\n",
        "    return {\n",
        "        \"messages\": [HumanMessage(content=result[\"messages\"][-1].content, name=\"Sql_agent\")]\n",
        "    }\n",
        "\n",
        "research_supervisor_node = make_supervisor_node(llm, [\"PDF_Analyst\", \"Sql_agent\"])\n",
        "\n"
      ]
    },
    {
      "cell_type": "markdown",
      "id": "rXvk3FYTCA6a",
      "metadata": {
        "id": "rXvk3FYTCA6a"
      },
      "source": [
        "# Create the Research Workflow"
      ]
    },
    {
      "cell_type": "code",
      "execution_count": 28,
      "id": "BQa_y5yECCqX",
      "metadata": {
        "id": "BQa_y5yECCqX"
      },
      "outputs": [],
      "source": [
        "research_builder = StateGraph(MessagesState)\n",
        "research_builder.add_node(\"supervisor\", research_supervisor_node)\n",
        "research_builder.add_node(\"PDF_Analyst\", rag_node)\n",
        "research_builder.add_node(\"Sql_agent\", sql_node)\n",
        "\n",
        "# Define the control flow\n",
        "research_builder.add_edge(START, \"supervisor\")\n",
        "# We want our workers to ALWAYS \"report back\" to the supervisor when done\n",
        "research_builder.add_edge(\"PDF_Analyst\", \"supervisor\")\n",
        "research_builder.add_edge(\"Sql_agent\", \"supervisor\")\n",
        "# Add the edges where routing applies\n",
        "research_builder.add_conditional_edges(\"supervisor\", lambda state: state[\"next\"])\n",
        "\n",
        "research_graph = research_builder.compile()"
      ]
    },
    {
      "cell_type": "code",
      "execution_count": 29,
      "id": "9QxSp4ddCQ_5",
      "metadata": {
        "colab": {
          "base_uri": "https://localhost:8080/",
          "height": 266
        },
        "id": "9QxSp4ddCQ_5",
        "outputId": "cd39b103-cd10-4162-c36b-09503050e47a"
      },
      "outputs": [
        {
          "data": {
            "image/png": "[encoded data removed]",
            "text/plain": [
              "<IPython.core.display.Image object>"
            ]
          },
          "metadata": {},
          "output_type": "display_data"
        }
      ],
      "source": [
        "from IPython.display import Image, display\n",
        "\n",
        "display(Image(research_graph.get_graph().draw_mermaid_png()))"
      ]
    },
    {
      "cell_type": "markdown",
      "id": "8v_rjTN3G3pC",
      "metadata": {
        "id": "8v_rjTN3G3pC"
      },
      "source": [
        "# Research Results"
      ]
    },
    {
      "cell_type": "code",
      "execution_count": 30,
      "id": "TbAqLq_oG3AZ",
      "metadata": {
        "colab": {
          "base_uri": "https://localhost:8080/"
        },
        "id": "TbAqLq_oG3AZ",
        "outputId": "20178231-2994-4606-a646-83a696f09d15"
      },
      "outputs": [
        {
          "name": "stdout",
          "output_type": "stream",
          "text": [
            "{'supervisor': {'next': 'PDF_Analyst'}}\n",
            "----\n",
            "{'PDF_Analyst': {'messages': [HumanMessage(content='I am sorry, I cannot answer this question. I do not have access to a database of refrigerator dimensions.  The provided API does not allow me to retrieve this information.', additional_kwargs={}, response_metadata={}, name='PDF_Analyst', id='f50073f7-aa73-40f3-a264-6760dd211391')]}}\n",
            "----\n",
            "{'supervisor': {'next': '__end__'}}\n",
            "----\n"
          ]
        }
      ],
      "source": [
        "query = \"What are the Dimensions and Volume of the 27.8 Cu. Ft. French Door Refrigerator?\"\n",
        "\n",
        "input_data = {\"query\": query}\n",
        "\n",
        "for s in research_graph.stream(\n",
        "    {\n",
        "        \"messages\": [\n",
        "            HumanMessage(content=input_data['query'])\n",
        "        ]\n",
        "    }\n",
        "):\n",
        "    if \"__end__\" not in s:\n",
        "        print(s)\n",
        "        print(\"----\")"
      ]
    },
    {
      "cell_type": "code",
      "execution_count": 31,
      "id": "0kwnsQti4I4k",
      "metadata": {
        "colab": {
          "base_uri": "https://localhost:8080/"
        },
        "id": "0kwnsQti4I4k",
        "outputId": "2a826228-02a8-43d9-b809-a6d22fc0a330"
      },
      "outputs": [
        {
          "name": "stdout",
          "output_type": "stream",
          "text": [
            "{'supervisor': {'next': 'Sql_agent'}}\n",
            "----\n",
            "{'Sql_agent': {'messages': [HumanMessage(content='The number of sales per country are as follows: Australia - 1964, Canada - 1963, India - 2071, UK - 2037, USA - 1965.', additional_kwargs={}, response_metadata={}, name='Sql_agent', id='20467b3c-d864-42a2-be7d-7153b2a7df7d')]}}\n",
            "----\n",
            "{'supervisor': {'next': '__end__'}}\n",
            "----\n"
          ]
        }
      ],
      "source": [
        "query = \"How many sales are there in the database per country?\"\n",
        "\n",
        "input_data = {\"query\": query}\n",
        "\n",
        "for s in research_graph.stream(\n",
        "    {\n",
        "        \"messages\": [\n",
        "            HumanMessage(content=input_data['query'])\n",
        "        ]\n",
        "    }\n",
        "):\n",
        "    if \"__end__\" not in s:\n",
        "        print(s)\n",
        "        print(\"----\")"
      ]
    },
    {
      "cell_type": "markdown",
      "id": "N1vN9ozP2jBh",
      "metadata": {
        "id": "N1vN9ozP2jBh"
      },
      "source": [
        "# Initialize the Writing Agents"
      ]
    },
    {
      "cell_type": "code",
      "execution_count": 32,
      "id": "a5vb-dBO2DuU",
      "metadata": {
        "id": "a5vb-dBO2DuU"
      },
      "outputs": [],
      "source": [
        "def call_model(state: MessagesState):\n",
        "    # add any logic to customize model system message etc here\n",
        "    response = llm.invoke(state[\"messages\"])\n",
        "    return {\"messages\": [response]}\n",
        "\n",
        "builder_writer = StateGraph(MessagesState)\n",
        "builder_writer.add_node(call_model)\n",
        "builder_writer.add_edge(START, \"call_model\")\n",
        "\n",
        "writer_graph = builder_writer.compile()"
      ]
    },
    {
      "cell_type": "code",
      "execution_count": 36,
      "id": "O5IIhlm02jAm",
      "metadata": {
        "colab": {
          "base_uri": "https://localhost:8080/",
          "height": 151
        },
        "id": "O5IIhlm02jAm",
        "outputId": "66db4225-1b2c-4324-883b-6b4420c8e6b6"
      },
      "outputs": [
        {
          "data": {
            "image/png": "[encoded data removed]",
            "text/plain": [
              "<IPython.core.display.Image object>"
            ]
          },
          "metadata": {},
          "output_type": "display_data"
        }
      ],
      "source": [
        "from IPython.display import Image, display\n",
        "from langchain_core.runnables.graph import MermaidDrawMethod\n",
        "\n",
        "display(\n",
        "    Image(\n",
        "        writer_graph.get_graph().draw_mermaid_png(\n",
        "            draw_method=MermaidDrawMethod.API,\n",
        "        )\n",
        "    )\n",
        ")"
      ]
    },
    {
      "cell_type": "code",
      "execution_count": 37,
      "id": "ON-MlQ852jU6",
      "metadata": {
        "colab": {
          "base_uri": "https://localhost:8080/"
        },
        "id": "ON-MlQ852jU6",
        "outputId": "cd145b8a-4735-48cf-f1e2-f8e24717b6a6"
      },
      "outputs": [
        {
          "name": "stdout",
          "output_type": "stream",
          "text": [
            "{'call_model': {'messages': [AIMessage(content=\"Describing an LG refrigerator depends on the specific model, as LG offers a wide range of styles and features. However, some common characteristics across their lineup include:\\n\\n**General Design & Features:**\\n\\n* **Sleek and Modern Aesthetics:** LG refrigerators are generally known for their clean lines and contemporary designs.  They often feature minimalist handles and a focus on smooth surfaces.  Colors vary from classic stainless steel to more modern options like black stainless steel, matte black, or even custom panel options to match cabinetry.\\n\\n* **Variety of Styles:** LG offers various styles, including:\\n    * **French Door:**  This popular style features two doors on top and a bottom freezer drawer.\\n    * **Side-by-Side:**  This classic style has two doors side-by-side, with one for the refrigerator and one for the freezer.\\n    * **Top-Freezer:** A more traditional style with the freezer on top and the refrigerator on the bottom.\\n    * **Bottom-Freezer:** Similar to top-freezer but with the freezer compartment located at the bottom.\\n    * **Mini-fridges:**  Smaller refrigerators ideal for dorm rooms or offices.\\n\\n* **Technological Features (Vary by Model):**  Many LG refrigerators incorporate advanced technology, such as:\\n    * **Door-in-Door™:**  A smaller door within the main refrigerator door provides quick access to frequently used items without opening the entire refrigerator, saving energy.\\n    * **InstaView™ Door-in-Door™:**  A feature that allows you to see inside the refrigerator compartment by simply knocking twice on the door.\\n    * **Smart ThinQ™ Technology:**  Connectivity features allowing you to control and monitor your refrigerator remotely via a smartphone app.  This can include features like temperature adjustments, energy monitoring, and even diagnostic alerts.\\n    * **Ice and Water Dispenser:**  Most models include an external ice and water dispenser for convenient access.  Some offer crushed ice options.\\n    * **Linear Compressor:**  LG often uses a Linear Compressor, which they claim is more energy-efficient and quieter than traditional compressors.\\n    * **Internal Organization:**  Features like adjustable shelves, crisper drawers, and specialized compartments for different types of food.\\n\\n\\n**Things to Consider When Choosing an LG Refrigerator:**\\n\\n* **Size and Capacity:**  LG offers refrigerators in various sizes to suit different kitchen spaces and family needs.\\n* **Features:**  Consider which features are important to you, such as a water dispenser, smart capabilities, or specific storage options.\\n* **Price:**  LG refrigerators range in price from budget-friendly models to high-end, feature-rich options.\\n* **Energy Efficiency:**  Look for models with high energy-efficiency ratings to save money on your electricity bill.\\n\\n\\nIn short, an LG refrigerator is likely to be a stylish, technologically advanced appliance with a range of options to suit various needs and budgets.  However, to get a truly accurate description, you'd need to specify the exact model number.\", additional_kwargs={}, response_metadata={'prompt_feedback': {'block_reason': 0, 'safety_ratings': []}, 'finish_reason': 'STOP', 'safety_ratings': []}, id='run-0999462e-f28b-41fc-ba3a-5931a07c5f84-0', usage_metadata={'input_tokens': 9, 'output_tokens': 625, 'total_tokens': 634, 'input_token_details': {'cache_read': 0}})]}}\n",
            "----\n"
          ]
        }
      ],
      "source": [
        "query = \"Describe an LG refridgerator?\"\n",
        "\n",
        "input_data = {\"query\": query}\n",
        "\n",
        "for s in writer_graph.stream(\n",
        "    {\n",
        "        \"messages\": [\n",
        "            HumanMessage(content=input_data['query'])\n",
        "        ]\n",
        "    }\n",
        "):\n",
        "    if \"__end__\" not in s:\n",
        "        print(s)\n",
        "        print(\"----\")"
      ]
    },
    {
      "cell_type": "markdown",
      "id": "yavrq57Ff_uy",
      "metadata": {
        "id": "yavrq57Ff_uy"
      },
      "source": [
        "# Add Layers"
      ]
    },
    {
      "cell_type": "code",
      "execution_count": 45,
      "id": "tHZ-fcGAf-ke",
      "metadata": {
        "id": "tHZ-fcGAf-ke"
      },
      "outputs": [],
      "source": [
        "prompt_message_super=\"\"\"You are a supervisor tasked with managing a conversation between the following workers: {{members_super}}.\n",
        "Given the following user request, respond with the worker to act next. Each worker will perform a task and respond with their results and status. If the conversation is over, respond with 'FINISH'.\n",
        "\n",
        "Create a nicely formatted overview of the LG refridgerator. Make sure to adhere to the following:\n",
        "        1. LG sales per country based upon the sales database\n",
        "        2. Most comment features of the refridgerator \n",
        "The output should be summary text of the entire response compilation.\n",
        " \"\"\""
      ]
    },
    {
      "cell_type": "code",
      "execution_count": 46,
      "id": "52dfBhVPQH1r",
      "metadata": {
        "id": "52dfBhVPQH1r"
      },
      "outputs": [],
      "source": [
        "teams_supervisor_node = make_supervisor_node(llm, [\"research_team\", \"writing_team\"])"
      ]
    },
    {
      "cell_type": "code",
      "execution_count": 47,
      "id": "USBSaVQDgyO9",
      "metadata": {
        "id": "USBSaVQDgyO9"
      },
      "outputs": [],
      "source": [
        "def call_research_team(state: AgentState) -> AgentState:\n",
        "    response = research_graph.invoke({\"messages\": state[\"messages\"][-1]})\n",
        "    return {\n",
        "        \"messages\": [\n",
        "            HumanMessage(content=response[\"messages\"][-1].content, name=\"research_team\")\n",
        "        ]\n",
        "    }\n",
        "\n",
        "\n",
        "def call_paper_writing_team(state: AgentState) -> AgentState:\n",
        "    response = writer_graph.invoke({\"messages\": state[\"messages\"][-1]})\n",
        "    return {\n",
        "        \"messages\": [\n",
        "            HumanMessage(content=response[\"messages\"][-1].content, name=\"writing_team\")\n",
        "        ]\n",
        "    }\n",
        "\n"
      ]
    },
    {
      "cell_type": "code",
      "execution_count": 48,
      "id": "8IxNnLZQgyRa",
      "metadata": {
        "colab": {
          "base_uri": "https://localhost:8080/"
        },
        "id": "8IxNnLZQgyRa",
        "outputId": "9d6d6cab-8e16-4401-e490-447945e186c1"
      },
      "outputs": [
        {
          "data": {
            "text/plain": [
              "<langgraph.graph.state.StateGraph at 0x27f5c8b6690>"
            ]
          },
          "execution_count": 48,
          "metadata": {},
          "output_type": "execute_result"
        }
      ],
      "source": [
        "# Define the graph.\n",
        "super_builder = StateGraph(AgentState)\n",
        "super_builder.add_node(\"supervisor_super\", teams_supervisor_node)\n",
        "super_builder.add_node(\"research_team\", call_research_team)\n",
        "super_builder.add_node(\"writing_team\", call_paper_writing_team)"
      ]
    },
    {
      "cell_type": "code",
      "execution_count": 49,
      "id": "EswBiBjegyT7",
      "metadata": {
        "id": "EswBiBjegyT7"
      },
      "outputs": [],
      "source": [
        "# Define the control flow\n",
        "super_builder.add_edge(START, \"supervisor_super\")\n",
        "# We want our teams to ALWAYS \"report back\" to the top-level supervisor when done\n",
        "super_builder.add_edge(\"research_team\", \"supervisor_super\")\n",
        "super_builder.add_edge(\"writing_team\", \"supervisor_super\")\n",
        "# Add the edges where routing applies\n",
        "super_builder.add_conditional_edges(\"supervisor_super\", lambda state: state[\"next\"])\n",
        "super_graph = super_builder.compile()"
      ]
    },
    {
      "cell_type": "code",
      "execution_count": 56,
      "id": "ImsNXPxAgyWw",
      "metadata": {
        "colab": {
          "base_uri": "https://localhost:8080/",
          "height": 266
        },
        "id": "ImsNXPxAgyWw",
        "outputId": "9c955a6d-c5ac-4f54-c86e-37999f1d19ae"
      },
      "outputs": [],
      "source": [
        "#from IPython.display import Image, display\n",
        "\n",
        "#display(Image(super_graph.get_graph().draw_mermaid_png()))"
      ]
    },
    {
      "cell_type": "code",
      "execution_count": 50,
      "id": "a-WWqObBgyZg",
      "metadata": {
        "colab": {
          "base_uri": "https://localhost:8080/"
        },
        "id": "a-WWqObBgyZg",
        "outputId": "5a3ca9e9-473f-4cf7-cf92-64824f1f7f0b"
      },
      "outputs": [
        {
          "name": "stdout",
          "output_type": "stream",
          "text": [
            "{'supervisor_super': {'next': 'research_team'}}\n",
            "---\n",
            "{'research_team': {'messages': [HumanMessage(content='Status: Incomplete.  The available tools do not provide access to a sales database.  I cannot complete the request for LG refrigerator sales data per country.  Further action is needed to provide access to such data.', additional_kwargs={}, response_metadata={}, name='research_team', id='bc6f3d6e-261b-410e-b0b9-7c8b3452ca02')]}}\n",
            "---\n",
            "{'supervisor_super': {'next': 'research_team'}}\n",
            "---\n",
            "{'research_team': {'messages': [HumanMessage(content='Status: Incomplete.  The available tools do not provide access to a sales database.  I cannot complete the request for LG refrigerator sales data per country.  Further action is needed to provide access to such data.', additional_kwargs={}, response_metadata={}, name='research_team', id='1dae4922-a37c-4fa5-9e74-56a836268e71')]}}\n",
            "---\n",
            "{'supervisor_super': {'next': 'research_team'}}\n",
            "---\n",
            "{'research_team': {'messages': [HumanMessage(content='Status: Incomplete.  The available tools do not provide access to a sales database.  I cannot complete the request for LG refrigerator sales data per country.  Further action is needed to provide access to such data.', additional_kwargs={}, response_metadata={}, name='research_team', id='b7f6380a-d74c-43c1-beb9-7193a35beb26')]}}\n",
            "---\n",
            "{'supervisor_super': {'next': 'research_team'}}\n",
            "---\n",
            "{'research_team': {'messages': [HumanMessage(content='Status: Incomplete.  The available tools do not provide access to a sales database.  I cannot complete the request for LG refrigerator sales data per country.  Further action is needed to provide access to such data.', additional_kwargs={}, response_metadata={}, name='research_team', id='f0b9d285-d895-4ae8-8aaa-f0dab552296c')]}}\n",
            "---\n",
            "{'supervisor_super': {'next': 'research_team'}}\n",
            "---\n",
            "{'research_team': {'messages': [HumanMessage(content='Status: Incomplete.  The available tools do not provide access to a sales database.  I cannot complete the request for LG refrigerator sales data per country.  Further action is needed to provide access to such data.', additional_kwargs={}, response_metadata={}, name='research_team', id='e077842b-9489-48da-bf40-222a76329b87')]}}\n",
            "---\n",
            "{'supervisor_super': {'next': 'research_team'}}\n",
            "---\n",
            "{'research_team': {'messages': [HumanMessage(content='Status: Incomplete.  The available tools do not provide access to a sales database.  I cannot complete the request for LG refrigerator sales data per country.  Further action is needed to provide access to such data.', additional_kwargs={}, response_metadata={}, name='research_team', id='35775940-defe-443d-bfc9-f3cd5c58df8e')]}}\n",
            "---\n",
            "{'supervisor_super': {'next': 'research_team'}}\n",
            "---\n",
            "{'research_team': {'messages': [HumanMessage(content='Status: Incomplete.  The available tools do not provide access to a sales database.  I cannot complete the request for LG refrigerator sales data per country.  Further action is needed to provide access to such data.', additional_kwargs={}, response_metadata={}, name='research_team', id='096e9e3d-5359-46e4-8c19-849e427333ed')]}}\n",
            "---\n",
            "{'supervisor_super': {'next': 'research_team'}}\n",
            "---\n",
            "{'research_team': {'messages': [HumanMessage(content='Status: Incomplete.  The available tools do not provide access to a sales database.  I cannot complete the request for LG refrigerator sales data per country.  Further action is needed to provide access to such data.', additional_kwargs={}, response_metadata={}, name='research_team', id='3990cf14-be6c-40d3-9209-916a0e55c73b')]}}\n",
            "---\n",
            "{'supervisor_super': {'next': 'research_team'}}\n",
            "---\n",
            "{'research_team': {'messages': [HumanMessage(content='Status: Incomplete.  The available tools do not provide access to a sales database.  I cannot complete the request for LG refrigerator sales data per country.  Further action is needed to provide access to such data.', additional_kwargs={}, response_metadata={}, name='research_team', id='145c8b2c-459d-435f-b280-1321a208ef74')]}}\n",
            "---\n",
            "{'supervisor_super': {'next': 'research_team'}}\n",
            "---\n",
            "{'research_team': {'messages': [HumanMessage(content='Status: Incomplete.  The available tools do not provide access to a sales database.  I cannot complete the request for LG refrigerator sales data per country.  Further action is needed to provide access to such data.', additional_kwargs={}, response_metadata={}, name='research_team', id='66e3bd78-5b5f-4643-984c-f424f184e459')]}}\n",
            "---\n",
            "{'supervisor_super': {'next': 'research_team'}}\n",
            "---\n",
            "{'research_team': {'messages': [HumanMessage(content='Status: Incomplete.  The available tools do not provide access to a sales database.  I cannot complete the request for LG refrigerator sales data per country.  Further action is needed to provide access to such data.', additional_kwargs={}, response_metadata={}, name='research_team', id='6e6e28b4-02a3-4a30-812a-03f6106b1a5f')]}}\n",
            "---\n",
            "{'supervisor_super': {'next': '__end__'}}\n",
            "---\n"
          ]
        }
      ],
      "source": [
        "for s in super_graph.stream(\n",
        "    {\n",
        "        \"messages\": [\n",
        "            (\"user\", prompt_message_super)\n",
        "        ],\n",
        "    },\n",
        "    {\"recursion_limit\": 25},\n",
        "):\n",
        "    print(s)\n",
        "    print(\"---\")"
      ]
    }
  ],
  "metadata": {
    "colab": {
      "name": "AgenticAI_LangGraph_Hier.ipynb",
      "provenance": []
    },
    "kernelspec": {
      "display_name": ".venv",
      "language": "python",
      "name": "python3"
    },
    "language_info": {
      "codemirror_mode": {
        "name": "ipython",
        "version": 3
      },
      "file_extension": ".py",
      "mimetype": "text/x-python",
      "name": "python",
      "nbconvert_exporter": "python",
      "pygments_lexer": "ipython3",
      "version": "3.12.0"
    }
  },
  "nbformat": 4,
  "nbformat_minor": 5
}
