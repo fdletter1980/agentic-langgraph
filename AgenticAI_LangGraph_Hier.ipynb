{
  "cells": [
    {
      "cell_type": "code",
      "execution_count": 1,
      "id": "hSeGWnvNTOSRtzPOceKmQlcJ",
      "metadata": {
        "id": "hSeGWnvNTOSRtzPOceKmQlcJ",
        "tags": []
      },
      "outputs": [],
      "source": [
        "#!pip install -U langgraph langchain_openai langchain_community langchain-google-vertexai langchain-google-genai chromadb langgraph pypdf langchain_google_community unstructured[pdf] streamlit sentence-transformers"
      ]
    },
    {
      "cell_type": "code",
      "execution_count": null,
      "id": "OdAPZZo3cLYx",
      "metadata": {
        "id": "OdAPZZo3cLYx"
      },
      "outputs": [],
      "source": [
        "#!sudo apt update"
      ]
    },
    {
      "cell_type": "code",
      "execution_count": null,
      "id": "HAwPpMDdcs4b",
      "metadata": {
        "id": "HAwPpMDdcs4b"
      },
      "outputs": [],
      "source": [
        "#!sudo apt install python3-pip"
      ]
    },
    {
      "cell_type": "code",
      "execution_count": null,
      "id": "6D9wtsNRfel6",
      "metadata": {
        "id": "6D9wtsNRfel6"
      },
      "outputs": [],
      "source": [
        "#!pip3 install --upgrade pip setuptools wheel"
      ]
    },
    {
      "cell_type": "code",
      "execution_count": null,
      "id": "4mxaimzgV3Rl",
      "metadata": {
        "id": "4mxaimzgV3Rl"
      },
      "outputs": [],
      "source": [
        "#Libraries to be installed in addition on GCP\n",
        "#!sudo apt-get update\n",
        "#!apt-get install poppler-utils\n",
        "#! apt install tesseract-ocr\n",
        "#! apt install libtesseract-dev"
      ]
    },
    {
      "cell_type": "code",
      "execution_count": null,
      "id": "r2UGu6YxlfAf",
      "metadata": {
        "id": "r2UGu6YxlfAf"
      },
      "outputs": [],
      "source": [
        "#!python --version"
      ]
    },
    {
      "cell_type": "markdown",
      "id": "k8aXJzC-LZ7Z",
      "metadata": {
        "id": "k8aXJzC-LZ7Z"
      },
      "source": [
        "#Import Libraries"
      ]
    },
    {
      "cell_type": "code",
      "execution_count": 1,
      "id": "QvTnKRoxLP1Z",
      "metadata": {
        "colab": {
          "base_uri": "https://localhost:8080/"
        },
        "id": "QvTnKRoxLP1Z",
        "outputId": "7b1e5189-cb1e-4459-95e6-d35385819992"
      },
      "outputs": [
        {
          "name": "stderr",
          "output_type": "stream",
          "text": [
            "WARNING:langchain_community.utils.user_agent:USER_AGENT environment variable not set, consider setting it to identify your requests.\n"
          ]
        }
      ],
      "source": [
        "import pandas as pd\n",
        "from google.cloud import bigquery\n",
        "import sqlite3\n",
        "#import streamlit as st\n",
        "from langchain_community.tools.sql_database.tool import (\n",
        "    InfoSQLDatabaseTool,\n",
        "    ListSQLDatabaseTool,\n",
        "    QuerySQLCheckerTool,\n",
        "    QuerySQLDataBaseTool,\n",
        ")\n",
        "from langchain_community.utilities.sql_database import SQLDatabase\n",
        "from langchain_community.agent_toolkits.sql.toolkit import SQLDatabaseToolkit\n",
        "from langchain_community.agent_toolkits import SQLDatabaseToolkit\n",
        "from langchain_google_vertexai import ChatVertexAI\n",
        "from langchain_google_genai import ChatGoogleGenerativeAI\n",
        "from langchain_community.document_loaders import WebBaseLoader, PyPDFLoader\n",
        "from langchain_google_community import GCSDirectoryLoader\n",
        "from langchain_community.vectorstores import Chroma\n",
        "from langchain_google_genai import GoogleGenerativeAIEmbeddings\n",
        "from langchain_google_vertexai import VertexAIEmbeddings\n",
        "from langchain_text_splitters import RecursiveCharacterTextSplitter\n",
        "from langchain.memory import ConversationBufferMemory\n",
        "from langchain.chains import ConversationalRetrievalChain\n",
        "from langchain_core.messages import BaseMessage, HumanMessage\n",
        "from langgraph.prebuilt import create_react_agent\n",
        "from langchain.agents import AgentType, Tool, initialize_agent, AgentExecutor\n",
        "from typing import Union, Sequence, TypedDict, Annotated, List, Dict, Optional,Tuple\n",
        "from pydantic import BaseModel, Field\n",
        "from langchain_core.prompts import ChatPromptTemplate, MessagesPlaceholder\n",
        "from typing_extensions import TypedDict, Literal\n",
        "import functools\n",
        "import operator\n",
        "from langgraph.graph import END, StateGraph, START, MessagesState\n"
      ]
    },
    {
      "cell_type": "markdown",
      "id": "7fbY4vgSJ6gd",
      "metadata": {
        "id": "7fbY4vgSJ6gd"
      },
      "source": [
        "# Load Non-Structured Data"
      ]
    },
    {
      "cell_type": "code",
      "execution_count": 2,
      "id": "HHrSUa6dMbs6",
      "metadata": {
        "id": "HHrSUa6dMbs6"
      },
      "outputs": [],
      "source": [
        "import os\n",
        "os.environ[\"GOOGLE_API_KEY\"] ='YOUR GOOGLE API'"
      ]
    },
    {
      "cell_type": "code",
      "execution_count": 3,
      "id": "3D_SCRrWJ_Yg",
      "metadata": {
        "colab": {
          "base_uri": "https://localhost:8080/"
        },
        "id": "3D_SCRrWJ_Yg",
        "outputId": "dada6b7d-fccf-429b-adff-389034b43a13"
      },
      "outputs": [
        {
          "name": "stdout",
          "output_type": "stream",
          "text": [
            "2\n"
          ]
        }
      ],
      "source": [
        "loader = GCSDirectoryLoader(project_name=\"kw-data-science-playground\", bucket=\"kw-data-science-scratch\", prefix=\"fred/KB\")\n",
        "\n",
        "documents = loader.load()\n",
        "\n",
        "print(len(documents))\n"
      ]
    },
    {
      "cell_type": "code",
      "execution_count": 4,
      "id": "mp1Emfh6fs7X",
      "metadata": {
        "colab": {
          "base_uri": "https://localhost:8080/"
        },
        "id": "mp1Emfh6fs7X",
        "outputId": "b7174836-e889-4bd0-9692-a1b48b76acab"
      },
      "outputs": [
        {
          "name": "stdout",
          "output_type": "stream",
          "text": [
            "815\n"
          ]
        }
      ],
      "source": [
        "def split_docs(documents,chunk_size=1000,chunk_overlap=200):\n",
        "  text_splitter = RecursiveCharacterTextSplitter(chunk_size=chunk_size, chunk_overlap=chunk_overlap)\n",
        "  docs = text_splitter.split_documents(documents)\n",
        "  return docs\n",
        "\n",
        "docs = split_docs(documents)\n",
        "print(len(docs))\n"
      ]
    },
    {
      "cell_type": "code",
      "execution_count": 5,
      "id": "pZDfneYHcy7q",
      "metadata": {
        "id": "pZDfneYHcy7q"
      },
      "outputs": [],
      "source": [
        "from langchain.embeddings import SentenceTransformerEmbeddings\n",
        "from langchain_google_genai import GoogleGenerativeAIEmbeddings\n",
        "\n",
        "persist_directory = \"chroma_db\"\n",
        "#embeddings= GoogleGenerativeAIEmbeddings(model=\"models/embedding-001\")\n",
        "embeddings = VertexAIEmbeddings(model_name=\"text-embedding-005\")\n",
        "\n",
        "vectordb = Chroma.from_documents(\n",
        "    documents=docs, embedding=embeddings, persist_directory=persist_directory\n",
        ")\n",
        "\n",
        "retriever = vectordb.as_retriever()"
      ]
    },
    {
      "cell_type": "code",
      "execution_count": 6,
      "id": "qYZoaYURcr9S",
      "metadata": {
        "colab": {
          "base_uri": "https://localhost:8080/"
        },
        "id": "qYZoaYURcr9S",
        "outputId": "10fdbf65-180e-434b-b7c0-1a32ce0cea3d"
      },
      "outputs": [
        {
          "data": {
            "text/plain": [
              "4"
            ]
          },
          "execution_count": 6,
          "metadata": {},
          "output_type": "execute_result"
        }
      ],
      "source": [
        "# New\n",
        "question = \"Top 3 coaching programs tagged to Full Cap?\"\n",
        "docs = vectordb.similarity_search(question)\n",
        "len(docs)"
      ]
    },
    {
      "cell_type": "code",
      "execution_count": 7,
      "id": "nqFZmsFZdS-H",
      "metadata": {
        "colab": {
          "base_uri": "https://localhost:8080/"
        },
        "id": "nqFZmsFZdS-H",
        "outputId": "34f91d5e-b78e-46f7-e71d-705c15db0c27"
      },
      "outputs": [
        {
          "data": {
            "text/plain": [
              "Document(metadata={'source': 'gs://kw-data-science-scratch/fred/KB/coaching_cap.pdf'}, page_content='Full Cap - Breakthrough Coaching Program - Agent ACH Canadian Full Cap - Coaches Coaching - BOLD Head Coaching Program Full Cap - Biweekly Life Coaching Program Full Cap - Coaches Coaching - MAPS Coach Full Cap - Executive Mastery Coaching Program - Agent ACH Canadian Full Cap - The Language of Sales (69) Full Cap - Hold - Mastery Leadership CC Full Cap - 1x1 Coach - Cadre Program Full Cap - 30-60-90: Productivity Coach Full Cap - Mastery Coaching Contract - Leadership ACH Full Cap - Hold - Executive Mastery Agent Full Cap - Fund My Mission Coaching Agreement Full Cap - Life Coaching Program - Release with MER Full Cap - Executive Mastery Coaching Program - Agent COMBO Full Cap - Hold - Mastery Leadership - No Fee CC Full Cap - Pivot 2020 Mastery Coaching Contract Agent - May Full Cap - Weekly Life Coaching Program - Support Full Cap - 30-60-90: Listing Agent Full Cap - Hold - Mastery Agent Canadian ACH Full Cap - Mastery Coaching Program - Agent DOS Team $2,500 Full Cap - Executive')"
            ]
          },
          "execution_count": 7,
          "metadata": {},
          "output_type": "execute_result"
        }
      ],
      "source": [
        "# New\n",
        "docs[0]"
      ]
    },
    {
      "cell_type": "code",
      "execution_count": 8,
      "id": "ug8KHrABmAY4",
      "metadata": {
        "id": "ug8KHrABmAY4"
      },
      "outputs": [],
      "source": [
        "# Convert loaded documents into strings by concatenating their content\n",
        "# and ignoring metadata\n",
        "def format_docs(docs):\n",
        "    return \"\\n\\n\".join(doc.page_content for doc in docs)"
      ]
    },
    {
      "cell_type": "markdown",
      "id": "k4F996YvLeAD",
      "metadata": {
        "id": "k4F996YvLeAD"
      },
      "source": [
        "# Load Structured Data"
      ]
    },
    {
      "cell_type": "code",
      "execution_count": 9,
      "id": "rLHKQjzOJ4U1",
      "metadata": {
        "id": "rLHKQjzOJ4U1"
      },
      "outputs": [],
      "source": [
        "client = bigquery.Client()"
      ]
    },
    {
      "cell_type": "code",
      "execution_count": 10,
      "id": "G1nt4wP0Li2o",
      "metadata": {
        "id": "G1nt4wP0Li2o"
      },
      "outputs": [],
      "source": [
        "QUERY1 = (\n",
        "'''\n",
        "SELECT kw_uid as kw_uid,\n",
        "heatseeker,\n",
        "CASE\n",
        "  when heatseeker > 0.1374 THEN 1\n",
        "  else 0\n",
        "END AS FLAGGED_CHURN_REALTORS,\n",
        "cap as CAP_SEGMENT,\n",
        "units_last_12 as SOLD_UNITS\n",
        "FROM `data-lake-prod-pres-2c917b19.people.agent_retention__internal_agent_targets_tbl`\n",
        "'''\n",
        ")\n",
        "df_c = client.query_and_wait(QUERY1).to_dataframe()"
      ]
    },
    {
      "cell_type": "code",
      "execution_count": 11,
      "id": "3p7h4Ko4LqtQ",
      "metadata": {
        "colab": {
          "base_uri": "https://localhost:8080/",
          "height": 424
        },
        "id": "3p7h4Ko4LqtQ",
        "outputId": "0f4fc98f-67ca-4934-bcbc-da1057a99374"
      },
      "outputs": [
        {
          "data": {
            "text/html": [
              "\n",
              "  <div id=\"df-351cc0b1-2182-4715-ba67-f23a200bf360\" class=\"colab-df-container\">\n",
              "    <div>\n",
              "<style scoped>\n",
              "    .dataframe tbody tr th:only-of-type {\n",
              "        vertical-align: middle;\n",
              "    }\n",
              "\n",
              "    .dataframe tbody tr th {\n",
              "        vertical-align: top;\n",
              "    }\n",
              "\n",
              "    .dataframe thead th {\n",
              "        text-align: right;\n",
              "    }\n",
              "</style>\n",
              "<table border=\"1\" class=\"dataframe\">\n",
              "  <thead>\n",
              "    <tr style=\"text-align: right;\">\n",
              "      <th></th>\n",
              "      <th>kw_uid</th>\n",
              "      <th>heatseeker</th>\n",
              "      <th>FLAGGED_CHURN_REALTORS</th>\n",
              "      <th>CAP_SEGMENT</th>\n",
              "      <th>SOLD_UNITS</th>\n",
              "    </tr>\n",
              "  </thead>\n",
              "  <tbody>\n",
              "    <tr>\n",
              "      <th>240</th>\n",
              "      <td>751323</td>\n",
              "      <td>0.205</td>\n",
              "      <td>1</td>\n",
              "      <td>Zero</td>\n",
              "      <td>0E-9</td>\n",
              "    </tr>\n",
              "    <tr>\n",
              "      <th>317</th>\n",
              "      <td>2000011024</td>\n",
              "      <td>0.250</td>\n",
              "      <td>1</td>\n",
              "      <td>None</td>\n",
              "      <td>0E-9</td>\n",
              "    </tr>\n",
              "    <tr>\n",
              "      <th>337</th>\n",
              "      <td>2000025397</td>\n",
              "      <td>0.236</td>\n",
              "      <td>1</td>\n",
              "      <td>None</td>\n",
              "      <td>0E-9</td>\n",
              "    </tr>\n",
              "    <tr>\n",
              "      <th>419</th>\n",
              "      <td>2000012472</td>\n",
              "      <td>0.208</td>\n",
              "      <td>1</td>\n",
              "      <td>None</td>\n",
              "      <td>0E-9</td>\n",
              "    </tr>\n",
              "    <tr>\n",
              "      <th>437</th>\n",
              "      <td>867261</td>\n",
              "      <td>0.212</td>\n",
              "      <td>1</td>\n",
              "      <td>Zero</td>\n",
              "      <td>1.000000000</td>\n",
              "    </tr>\n",
              "    <tr>\n",
              "      <th>...</th>\n",
              "      <td>...</td>\n",
              "      <td>...</td>\n",
              "      <td>...</td>\n",
              "      <td>...</td>\n",
              "      <td>...</td>\n",
              "    </tr>\n",
              "    <tr>\n",
              "      <th>75941</th>\n",
              "      <td>897329</td>\n",
              "      <td>0.189</td>\n",
              "      <td>1</td>\n",
              "      <td>None</td>\n",
              "      <td>1.000000000</td>\n",
              "    </tr>\n",
              "    <tr>\n",
              "      <th>75950</th>\n",
              "      <td>833346</td>\n",
              "      <td>0.189</td>\n",
              "      <td>1</td>\n",
              "      <td>Zero</td>\n",
              "      <td>0E-9</td>\n",
              "    </tr>\n",
              "    <tr>\n",
              "      <th>75954</th>\n",
              "      <td>2000040823</td>\n",
              "      <td>0.189</td>\n",
              "      <td>1</td>\n",
              "      <td>None</td>\n",
              "      <td>0E-9</td>\n",
              "    </tr>\n",
              "    <tr>\n",
              "      <th>76001</th>\n",
              "      <td>796994</td>\n",
              "      <td>0.189</td>\n",
              "      <td>1</td>\n",
              "      <td>Zero</td>\n",
              "      <td>0E-9</td>\n",
              "    </tr>\n",
              "    <tr>\n",
              "      <th>76053</th>\n",
              "      <td>2000058958</td>\n",
              "      <td>0.189</td>\n",
              "      <td>1</td>\n",
              "      <td>None</td>\n",
              "      <td>0E-9</td>\n",
              "    </tr>\n",
              "  </tbody>\n",
              "</table>\n",
              "<p>1961 rows × 5 columns</p>\n",
              "</div>\n",
              "    <div class=\"colab-df-buttons\">\n",
              "\n",
              "  <div class=\"colab-df-container\">\n",
              "    <button class=\"colab-df-convert\" onclick=\"convertToInteractive('df-351cc0b1-2182-4715-ba67-f23a200bf360')\"\n",
              "            title=\"Convert this dataframe to an interactive table.\"\n",
              "            style=\"display:none;\">\n",
              "\n",
              "  <svg xmlns=\"http://www.w3.org/2000/svg\" height=\"24px\" viewBox=\"0 -960 960 960\">\n",
              "    <path d=\"M120-120v-720h720v720H120Zm60-500h600v-160H180v160Zm220 220h160v-160H400v160Zm0 220h160v-160H400v160ZM180-400h160v-160H180v160Zm440 0h160v-160H620v160ZM180-180h160v-160H180v160Zm440 0h160v-160H620v160Z\"/>\n",
              "  </svg>\n",
              "    </button>\n",
              "\n",
              "  <style>\n",
              "    .colab-df-container {\n",
              "      display:flex;\n",
              "      gap: 12px;\n",
              "    }\n",
              "\n",
              "    .colab-df-convert {\n",
              "      background-color: #E8F0FE;\n",
              "      border: none;\n",
              "      border-radius: 50%;\n",
              "      cursor: pointer;\n",
              "      display: none;\n",
              "      fill: #1967D2;\n",
              "      height: 32px;\n",
              "      padding: 0 0 0 0;\n",
              "      width: 32px;\n",
              "    }\n",
              "\n",
              "    .colab-df-convert:hover {\n",
              "      background-color: #E2EBFA;\n",
              "      box-shadow: 0px 1px 2px rgba(60, 64, 67, 0.3), 0px 1px 3px 1px rgba(60, 64, 67, 0.15);\n",
              "      fill: #174EA6;\n",
              "    }\n",
              "\n",
              "    .colab-df-buttons div {\n",
              "      margin-bottom: 4px;\n",
              "    }\n",
              "\n",
              "    [theme=dark] .colab-df-convert {\n",
              "      background-color: #3B4455;\n",
              "      fill: #D2E3FC;\n",
              "    }\n",
              "\n",
              "    [theme=dark] .colab-df-convert:hover {\n",
              "      background-color: #434B5C;\n",
              "      box-shadow: 0px 1px 3px 1px rgba(0, 0, 0, 0.15);\n",
              "      filter: drop-shadow(0px 1px 2px rgba(0, 0, 0, 0.3));\n",
              "      fill: #FFFFFF;\n",
              "    }\n",
              "  </style>\n",
              "\n",
              "    <script>\n",
              "      const buttonEl =\n",
              "        document.querySelector('#df-351cc0b1-2182-4715-ba67-f23a200bf360 button.colab-df-convert');\n",
              "      buttonEl.style.display =\n",
              "        google.colab.kernel.accessAllowed ? 'block' : 'none';\n",
              "\n",
              "      async function convertToInteractive(key) {\n",
              "        const element = document.querySelector('#df-351cc0b1-2182-4715-ba67-f23a200bf360');\n",
              "        const dataTable =\n",
              "          await google.colab.kernel.invokeFunction('convertToInteractive',\n",
              "                                                    [key], {});\n",
              "        if (!dataTable) return;\n",
              "\n",
              "        const docLinkHtml = 'Like what you see? Visit the ' +\n",
              "          '<a target=\"_blank\" href=https://colab.research.google.com/notebooks/data_table.ipynb>data table notebook</a>'\n",
              "          + ' to learn more about interactive tables.';\n",
              "        element.innerHTML = '';\n",
              "        dataTable['output_type'] = 'display_data';\n",
              "        await google.colab.output.renderOutput(dataTable, element);\n",
              "        const docLink = document.createElement('div');\n",
              "        docLink.innerHTML = docLinkHtml;\n",
              "        element.appendChild(docLink);\n",
              "      }\n",
              "    </script>\n",
              "  </div>\n",
              "\n",
              "\n",
              "<div id=\"df-6e22143d-700a-4c58-a778-133e170f79ab\">\n",
              "  <button class=\"colab-df-quickchart\" onclick=\"quickchart('df-6e22143d-700a-4c58-a778-133e170f79ab')\"\n",
              "            title=\"Suggest charts\"\n",
              "            style=\"display:none;\">\n",
              "\n",
              "<svg xmlns=\"http://www.w3.org/2000/svg\" height=\"24px\"viewBox=\"0 0 24 24\"\n",
              "     width=\"24px\">\n",
              "    <g>\n",
              "        <path d=\"M19 3H5c-1.1 0-2 .9-2 2v14c0 1.1.9 2 2 2h14c1.1 0 2-.9 2-2V5c0-1.1-.9-2-2-2zM9 17H7v-7h2v7zm4 0h-2V7h2v10zm4 0h-2v-4h2v4z\"/>\n",
              "    </g>\n",
              "</svg>\n",
              "  </button>\n",
              "\n",
              "<style>\n",
              "  .colab-df-quickchart {\n",
              "      --bg-color: #E8F0FE;\n",
              "      --fill-color: #1967D2;\n",
              "      --hover-bg-color: #E2EBFA;\n",
              "      --hover-fill-color: #174EA6;\n",
              "      --disabled-fill-color: #AAA;\n",
              "      --disabled-bg-color: #DDD;\n",
              "  }\n",
              "\n",
              "  [theme=dark] .colab-df-quickchart {\n",
              "      --bg-color: #3B4455;\n",
              "      --fill-color: #D2E3FC;\n",
              "      --hover-bg-color: #434B5C;\n",
              "      --hover-fill-color: #FFFFFF;\n",
              "      --disabled-bg-color: #3B4455;\n",
              "      --disabled-fill-color: #666;\n",
              "  }\n",
              "\n",
              "  .colab-df-quickchart {\n",
              "    background-color: var(--bg-color);\n",
              "    border: none;\n",
              "    border-radius: 50%;\n",
              "    cursor: pointer;\n",
              "    display: none;\n",
              "    fill: var(--fill-color);\n",
              "    height: 32px;\n",
              "    padding: 0;\n",
              "    width: 32px;\n",
              "  }\n",
              "\n",
              "  .colab-df-quickchart:hover {\n",
              "    background-color: var(--hover-bg-color);\n",
              "    box-shadow: 0 1px 2px rgba(60, 64, 67, 0.3), 0 1px 3px 1px rgba(60, 64, 67, 0.15);\n",
              "    fill: var(--button-hover-fill-color);\n",
              "  }\n",
              "\n",
              "  .colab-df-quickchart-complete:disabled,\n",
              "  .colab-df-quickchart-complete:disabled:hover {\n",
              "    background-color: var(--disabled-bg-color);\n",
              "    fill: var(--disabled-fill-color);\n",
              "    box-shadow: none;\n",
              "  }\n",
              "\n",
              "  .colab-df-spinner {\n",
              "    border: 2px solid var(--fill-color);\n",
              "    border-color: transparent;\n",
              "    border-bottom-color: var(--fill-color);\n",
              "    animation:\n",
              "      spin 1s steps(1) infinite;\n",
              "  }\n",
              "\n",
              "  @keyframes spin {\n",
              "    0% {\n",
              "      border-color: transparent;\n",
              "      border-bottom-color: var(--fill-color);\n",
              "      border-left-color: var(--fill-color);\n",
              "    }\n",
              "    20% {\n",
              "      border-color: transparent;\n",
              "      border-left-color: var(--fill-color);\n",
              "      border-top-color: var(--fill-color);\n",
              "    }\n",
              "    30% {\n",
              "      border-color: transparent;\n",
              "      border-left-color: var(--fill-color);\n",
              "      border-top-color: var(--fill-color);\n",
              "      border-right-color: var(--fill-color);\n",
              "    }\n",
              "    40% {\n",
              "      border-color: transparent;\n",
              "      border-right-color: var(--fill-color);\n",
              "      border-top-color: var(--fill-color);\n",
              "    }\n",
              "    60% {\n",
              "      border-color: transparent;\n",
              "      border-right-color: var(--fill-color);\n",
              "    }\n",
              "    80% {\n",
              "      border-color: transparent;\n",
              "      border-right-color: var(--fill-color);\n",
              "      border-bottom-color: var(--fill-color);\n",
              "    }\n",
              "    90% {\n",
              "      border-color: transparent;\n",
              "      border-bottom-color: var(--fill-color);\n",
              "    }\n",
              "  }\n",
              "</style>\n",
              "\n",
              "  <script>\n",
              "    async function quickchart(key) {\n",
              "      const quickchartButtonEl =\n",
              "        document.querySelector('#' + key + ' button');\n",
              "      quickchartButtonEl.disabled = true;  // To prevent multiple clicks.\n",
              "      quickchartButtonEl.classList.add('colab-df-spinner');\n",
              "      try {\n",
              "        const charts = await google.colab.kernel.invokeFunction(\n",
              "            'suggestCharts', [key], {});\n",
              "      } catch (error) {\n",
              "        console.error('Error during call to suggestCharts:', error);\n",
              "      }\n",
              "      quickchartButtonEl.classList.remove('colab-df-spinner');\n",
              "      quickchartButtonEl.classList.add('colab-df-quickchart-complete');\n",
              "    }\n",
              "    (() => {\n",
              "      let quickchartButtonEl =\n",
              "        document.querySelector('#df-6e22143d-700a-4c58-a778-133e170f79ab button');\n",
              "      quickchartButtonEl.style.display =\n",
              "        google.colab.kernel.accessAllowed ? 'block' : 'none';\n",
              "    })();\n",
              "  </script>\n",
              "</div>\n",
              "    </div>\n",
              "  </div>\n"
            ],
            "text/plain": [
              "           kw_uid  heatseeker  FLAGGED_CHURN_REALTORS CAP_SEGMENT   SOLD_UNITS\n",
              "240        751323       0.205                       1        Zero         0E-9\n",
              "317    2000011024       0.250                       1        None         0E-9\n",
              "337    2000025397       0.236                       1        None         0E-9\n",
              "419    2000012472       0.208                       1        None         0E-9\n",
              "437        867261       0.212                       1        Zero  1.000000000\n",
              "...           ...         ...                     ...         ...          ...\n",
              "75941      897329       0.189                       1        None  1.000000000\n",
              "75950      833346       0.189                       1        Zero         0E-9\n",
              "75954  2000040823       0.189                       1        None         0E-9\n",
              "76001      796994       0.189                       1        Zero         0E-9\n",
              "76053  2000058958       0.189                       1        None         0E-9\n",
              "\n",
              "[1961 rows x 5 columns]"
            ]
          },
          "execution_count": 11,
          "metadata": {},
          "output_type": "execute_result"
        }
      ],
      "source": [
        "df_c[df_c.duplicated(['kw_uid'], keep=False)]"
      ]
    },
    {
      "cell_type": "code",
      "execution_count": 12,
      "id": "-RXrYVDnLqwX",
      "metadata": {
        "id": "-RXrYVDnLqwX"
      },
      "outputs": [],
      "source": [
        "df_c = df_c.drop_duplicates(subset='kw_uid', keep=\"first\")"
      ]
    },
    {
      "cell_type": "code",
      "execution_count": 13,
      "id": "4LoHiDn6clnk",
      "metadata": {
        "id": "4LoHiDn6clnk"
      },
      "outputs": [],
      "source": [
        "df_c['kw_uid'] = pd.to_numeric(df_c['kw_uid'], errors='coerce')"
      ]
    },
    {
      "cell_type": "code",
      "execution_count": 14,
      "id": "1RIU_VVlLqy-",
      "metadata": {
        "id": "1RIU_VVlLqy-"
      },
      "outputs": [],
      "source": [
        "QUERY2 = (\n",
        "'SELECT distinct kw_uid, first_name, last_name, luxury, commercial, land, military ,maps_client, maps_mastery_client,  FROM `data-lake-prod-pres-2c917b19.people.ams__person_details_tbl` where active = 1 and country_id = 235 and person_type = 1'\n",
        ")\n",
        "df_a = client.query_and_wait(QUERY2).to_dataframe()"
      ]
    },
    {
      "cell_type": "code",
      "execution_count": 15,
      "id": "JyRFJaEINjPn",
      "metadata": {
        "id": "JyRFJaEINjPn"
      },
      "outputs": [],
      "source": [
        "QUERY3 = (\n",
        "'''\n",
        "SELECT distinct kw_uid,\n",
        "max(case when source = \"Designs\" THEN count end) as Designs,\n",
        "max(case when source = \"SmartPlans\" THEN count end) as SmartPlans,\n",
        "max(case when source = \"Tasks\" THEN count end) as Tasks,\n",
        "max(case when source = \"Interactions\" THEN count end) as Interactions,\n",
        "max(case when source = \"Referrals\" THEN count end) as Referrals,\n",
        "max(case when source = \"Campaigns\" THEN count end) as Campaigns,\n",
        "max(case when source = \"Opportunities\" THEN count end) as Opportunities,\n",
        "max(case when source = \"Contacts\" THEN count end) as Contacts\n",
        "FROM `data-lake-prod-pres-2c917b19.bi_rd.command_activity_fixed`\n",
        "WHERE type != 'deleted' and date >= '2024-01-01'\n",
        "group by kw_uid\n",
        ";\n",
        "'''\n",
        ")\n",
        "df_u = client.query_and_wait(QUERY3).to_dataframe()"
      ]
    },
    {
      "cell_type": "code",
      "execution_count": 16,
      "id": "8Kx7-2vKNoDj",
      "metadata": {
        "id": "8Kx7-2vKNoDj"
      },
      "outputs": [],
      "source": [
        "# Replace null values with 0\n",
        "df_u.fillna(0, inplace=True)"
      ]
    },
    {
      "cell_type": "code",
      "execution_count": 17,
      "id": "7Zf6A0jpNsl7",
      "metadata": {
        "colab": {
          "base_uri": "https://localhost:8080/",
          "height": 53
        },
        "id": "7Zf6A0jpNsl7",
        "outputId": "cd4c2c5c-027b-431b-9993-fb3dc1c82ebb"
      },
      "outputs": [
        {
          "data": {
            "text/html": [
              "\n",
              "  <div id=\"df-917bcdfa-7314-4c34-8359-9966f80ca573\" class=\"colab-df-container\">\n",
              "    <div>\n",
              "<style scoped>\n",
              "    .dataframe tbody tr th:only-of-type {\n",
              "        vertical-align: middle;\n",
              "    }\n",
              "\n",
              "    .dataframe tbody tr th {\n",
              "        vertical-align: top;\n",
              "    }\n",
              "\n",
              "    .dataframe thead th {\n",
              "        text-align: right;\n",
              "    }\n",
              "</style>\n",
              "<table border=\"1\" class=\"dataframe\">\n",
              "  <thead>\n",
              "    <tr style=\"text-align: right;\">\n",
              "      <th></th>\n",
              "      <th>kw_uid</th>\n",
              "      <th>Designs</th>\n",
              "      <th>SmartPlans</th>\n",
              "      <th>Tasks</th>\n",
              "      <th>Interactions</th>\n",
              "      <th>Referrals</th>\n",
              "      <th>Campaigns</th>\n",
              "      <th>Opportunities</th>\n",
              "      <th>Contacts</th>\n",
              "    </tr>\n",
              "  </thead>\n",
              "  <tbody>\n",
              "  </tbody>\n",
              "</table>\n",
              "</div>\n",
              "    <div class=\"colab-df-buttons\">\n",
              "\n",
              "  <div class=\"colab-df-container\">\n",
              "    <button class=\"colab-df-convert\" onclick=\"convertToInteractive('df-917bcdfa-7314-4c34-8359-9966f80ca573')\"\n",
              "            title=\"Convert this dataframe to an interactive table.\"\n",
              "            style=\"display:none;\">\n",
              "\n",
              "  <svg xmlns=\"http://www.w3.org/2000/svg\" height=\"24px\" viewBox=\"0 -960 960 960\">\n",
              "    <path d=\"M120-120v-720h720v720H120Zm60-500h600v-160H180v160Zm220 220h160v-160H400v160Zm0 220h160v-160H400v160ZM180-400h160v-160H180v160Zm440 0h160v-160H620v160ZM180-180h160v-160H180v160Zm440 0h160v-160H620v160Z\"/>\n",
              "  </svg>\n",
              "    </button>\n",
              "\n",
              "  <style>\n",
              "    .colab-df-container {\n",
              "      display:flex;\n",
              "      gap: 12px;\n",
              "    }\n",
              "\n",
              "    .colab-df-convert {\n",
              "      background-color: #E8F0FE;\n",
              "      border: none;\n",
              "      border-radius: 50%;\n",
              "      cursor: pointer;\n",
              "      display: none;\n",
              "      fill: #1967D2;\n",
              "      height: 32px;\n",
              "      padding: 0 0 0 0;\n",
              "      width: 32px;\n",
              "    }\n",
              "\n",
              "    .colab-df-convert:hover {\n",
              "      background-color: #E2EBFA;\n",
              "      box-shadow: 0px 1px 2px rgba(60, 64, 67, 0.3), 0px 1px 3px 1px rgba(60, 64, 67, 0.15);\n",
              "      fill: #174EA6;\n",
              "    }\n",
              "\n",
              "    .colab-df-buttons div {\n",
              "      margin-bottom: 4px;\n",
              "    }\n",
              "\n",
              "    [theme=dark] .colab-df-convert {\n",
              "      background-color: #3B4455;\n",
              "      fill: #D2E3FC;\n",
              "    }\n",
              "\n",
              "    [theme=dark] .colab-df-convert:hover {\n",
              "      background-color: #434B5C;\n",
              "      box-shadow: 0px 1px 3px 1px rgba(0, 0, 0, 0.15);\n",
              "      filter: drop-shadow(0px 1px 2px rgba(0, 0, 0, 0.3));\n",
              "      fill: #FFFFFF;\n",
              "    }\n",
              "  </style>\n",
              "\n",
              "    <script>\n",
              "      const buttonEl =\n",
              "        document.querySelector('#df-917bcdfa-7314-4c34-8359-9966f80ca573 button.colab-df-convert');\n",
              "      buttonEl.style.display =\n",
              "        google.colab.kernel.accessAllowed ? 'block' : 'none';\n",
              "\n",
              "      async function convertToInteractive(key) {\n",
              "        const element = document.querySelector('#df-917bcdfa-7314-4c34-8359-9966f80ca573');\n",
              "        const dataTable =\n",
              "          await google.colab.kernel.invokeFunction('convertToInteractive',\n",
              "                                                    [key], {});\n",
              "        if (!dataTable) return;\n",
              "\n",
              "        const docLinkHtml = 'Like what you see? Visit the ' +\n",
              "          '<a target=\"_blank\" href=https://colab.research.google.com/notebooks/data_table.ipynb>data table notebook</a>'\n",
              "          + ' to learn more about interactive tables.';\n",
              "        element.innerHTML = '';\n",
              "        dataTable['output_type'] = 'display_data';\n",
              "        await google.colab.output.renderOutput(dataTable, element);\n",
              "        const docLink = document.createElement('div');\n",
              "        docLink.innerHTML = docLinkHtml;\n",
              "        element.appendChild(docLink);\n",
              "      }\n",
              "    </script>\n",
              "  </div>\n",
              "\n",
              "    </div>\n",
              "  </div>\n"
            ],
            "text/plain": [
              "Empty DataFrame\n",
              "Columns: [kw_uid, Designs, SmartPlans, Tasks, Interactions, Referrals, Campaigns, Opportunities, Contacts]\n",
              "Index: []"
            ]
          },
          "execution_count": 17,
          "metadata": {},
          "output_type": "execute_result"
        }
      ],
      "source": [
        "df_u[df_u.duplicated(['kw_uid'], keep=False)]"
      ]
    },
    {
      "cell_type": "code",
      "execution_count": 18,
      "id": "gKVq2UeiNv9F",
      "metadata": {
        "id": "gKVq2UeiNv9F"
      },
      "outputs": [],
      "source": [
        "df_u['kw_uid'] = pd.to_numeric(df_u['kw_uid'], errors='coerce')"
      ]
    },
    {
      "cell_type": "code",
      "execution_count": 19,
      "id": "xm7hfGFVNzQl",
      "metadata": {
        "id": "xm7hfGFVNzQl"
      },
      "outputs": [],
      "source": [
        "QUERY4 = (\n",
        "'''\n",
        "WITH contacts_data_set AS (\n",
        "  SELECT c.*\n",
        "  FROM (SELECT cs.*, owner.id as owner_id, author.created_by as created_by\n",
        "            , CASE WHEN p.type = 'CLAIMED' THEN p.granted_to END as claimed_by\n",
        "            , p.granted_to\n",
        "      FROM `data-lake-prod-pres-2c917b19.contacts.contacts_snapshot` cs LEFT JOIN UNNEST(permissions) p) c\n",
        "  WHERE c.archived_date IS NULL AND c.deleted_at IS NULL -- active (not deleted or archived) contacts only\n",
        ")\n",
        "\n",
        ", primary_assignee AS (\n",
        "  SELECT c._id\n",
        "        , CASE WHEN owner.type = 'AGENT' THEN owner.id\n",
        "              WHEN claimed_by IS NOT NULL THEN claimed_by\n",
        "              WHEN in_lead_route = true THEN NULL\n",
        "              WHEN granted_count = 1 THEN granted_to\n",
        "              ELSE created_by END as kw_uid -- primary assignee\n",
        "  FROM contacts_data_set c\n",
        "        JOIN (SELECT _id, COALESCE(COUNT(DISTINCT granted_to),0) as granted_count FROM contacts_data_set GROUP BY 1) a ON c._id = a._id\n",
        ")\n",
        "\n",
        ", contacts_per_kwuid AS (\n",
        "  SELECT kw_uid, COUNT(DISTINCT _id) as active_contact_count\n",
        "  FROM primary_assignee\n",
        "  GROUP BY ALL\n",
        ")\n",
        "\n",
        "SELECT *\n",
        "FROM contacts_per_kwuid\n",
        "'''\n",
        ")\n",
        "df_co = client.query_and_wait(QUERY4).to_dataframe()"
      ]
    },
    {
      "cell_type": "code",
      "execution_count": 20,
      "id": "lWPwLibBOB3v",
      "metadata": {
        "id": "lWPwLibBOB3v"
      },
      "outputs": [],
      "source": [
        "df_co['kw_uid'] = pd.to_numeric(df_co['kw_uid'], errors='coerce')"
      ]
    },
    {
      "cell_type": "code",
      "execution_count": 21,
      "id": "cTvhiyNYOFar",
      "metadata": {
        "id": "cTvhiyNYOFar"
      },
      "outputs": [],
      "source": [
        "merged_df = df_c.merge(df_a, on='kw_uid').merge(df_u, on='kw_uid').merge(df_co, on='kw_uid')"
      ]
    },
    {
      "cell_type": "code",
      "execution_count": 32,
      "id": "2yF8UQX-OJFI",
      "metadata": {
        "id": "2yF8UQX-OJFI"
      },
      "outputs": [],
      "source": [
        "merged_df.fillna(0, inplace=True)"
      ]
    },
    {
      "cell_type": "markdown",
      "id": "OIIFw-8-UiWx",
      "metadata": {
        "id": "OIIFw-8-UiWx"
      },
      "source": [
        "# Inject DataFrame into DB"
      ]
    },
    {
      "cell_type": "code",
      "execution_count": 33,
      "id": "fEpACRlsUjyx",
      "metadata": {
        "colab": {
          "base_uri": "https://localhost:8080/"
        },
        "id": "fEpACRlsUjyx",
        "outputId": "00434d65-41ca-4f66-b883-55368dbfb371"
      },
      "outputs": [
        {
          "data": {
            "text/plain": [
              "<sqlite3.Cursor at 0x793272fba140>"
            ]
          },
          "execution_count": 33,
          "metadata": {},
          "output_type": "execute_result"
        }
      ],
      "source": [
        "connection = sqlite3.connect(\"realtors.db\")\n",
        "connection.execute(\"DROP TABLE realtors\")"
      ]
    },
    {
      "cell_type": "code",
      "execution_count": 34,
      "id": "9yMWIJEpUwju",
      "metadata": {
        "colab": {
          "base_uri": "https://localhost:8080/"
        },
        "id": "9yMWIJEpUwju",
        "outputId": "2a8c04fd-ca73-4c71-aeb5-7fcb6fd7056b"
      },
      "outputs": [
        {
          "name": "stderr",
          "output_type": "stream",
          "text": [
            "<ipython-input-34-be2c4912a81e>:1: FutureWarning: DataFrame.applymap has been deprecated. Use DataFrame.map instead.\n",
            "  merged_df_str = merged_df.applymap(str)\n"
          ]
        }
      ],
      "source": [
        "merged_df_str = merged_df.applymap(str)"
      ]
    },
    {
      "cell_type": "code",
      "execution_count": 35,
      "id": "kMAGW7NjU06z",
      "metadata": {
        "colab": {
          "base_uri": "https://localhost:8080/"
        },
        "id": "kMAGW7NjU06z",
        "outputId": "9a7f15bf-329e-4448-de7c-6a07521dac05"
      },
      "outputs": [
        {
          "data": {
            "text/plain": [
              "49495"
            ]
          },
          "execution_count": 35,
          "metadata": {},
          "output_type": "execute_result"
        }
      ],
      "source": [
        "merged_df_str.to_sql(name=\"realtors\", con=connection)"
      ]
    },
    {
      "cell_type": "code",
      "execution_count": 36,
      "id": "0me81ZUtU50k",
      "metadata": {
        "id": "0me81ZUtU50k"
      },
      "outputs": [],
      "source": [
        "db = SQLDatabase.from_uri(\"sqlite:///realtors.db\")"
      ]
    },
    {
      "cell_type": "code",
      "execution_count": 37,
      "id": "Gf1rgNXV75vf",
      "metadata": {
        "id": "Gf1rgNXV75vf"
      },
      "outputs": [],
      "source": [
        "#llm = ChatVertexAI(model=\"gemini-1.5-flash-002\")\n",
        "llm = ChatGoogleGenerativeAI(model=\"gemini-1.5-flash-002\", temperature=0.1)\n",
        "#llm = ChatGoogleGenerativeAI(model=\"gemini-2.0-flash-exp\", temperature=0.5)"
      ]
    },
    {
      "cell_type": "code",
      "execution_count": 38,
      "id": "VC8yD0Y75j7d",
      "metadata": {
        "id": "VC8yD0Y75j7d"
      },
      "outputs": [],
      "source": [
        "toolkit = SQLDatabaseToolkit(db=db, llm=llm)"
      ]
    },
    {
      "cell_type": "markdown",
      "id": "4fJnqkFB-oMU",
      "metadata": {
        "id": "4fJnqkFB-oMU"
      },
      "source": [
        "# Set-up SQL Agent"
      ]
    },
    {
      "cell_type": "code",
      "execution_count": 39,
      "id": "aEUvVntR817b",
      "metadata": {
        "id": "aEUvVntR817b"
      },
      "outputs": [],
      "source": [
        "MSSQL_AGENT_SUFFIX_WITH_MEMORY= \"\"\"While generating SQL for the above query, pay attention to the below:\n",
        "\n",
        "\n",
        "\n",
        "- General Instructions:\n",
        "\n",
        "  - Do not use any LIMIT statements in SQL.\n",
        "  - Round answers to two decimal places.\n",
        "  - Avoid complicated SQL queries such as those involving division within a query.\n",
        "  - Perform operations step by step.\n",
        "  - Pay attention to all conditions mentioned in the query. Do not infer conditions.\n",
        "  - For questions on share or market share, use column=\"Amount\" unless stated otherwise explicitly.\n",
        "  - YTD or ytd = Year to Date\n",
        "   - Don't assume year as current year unless indicated so. Take data for all years unless its indicated to use a specific year\"\"\""
      ]
    },
    {
      "cell_type": "code",
      "execution_count": 40,
      "id": "PNKiQu2F5sYF",
      "metadata": {
        "id": "PNKiQu2F5sYF"
      },
      "outputs": [],
      "source": [
        "sql_agent_executor = create_react_agent(llm,tools=toolkit.get_tools(),state_modifier=MSSQL_AGENT_SUFFIX_WITH_MEMORY)"
      ]
    },
    {
      "cell_type": "code",
      "execution_count": 41,
      "id": "Ipfr4DG69Dha",
      "metadata": {
        "colab": {
          "base_uri": "https://localhost:8080/"
        },
        "id": "Ipfr4DG69Dha",
        "outputId": "397af683-489d-4fa6-d4cb-57ef0940449f"
      },
      "outputs": [
        {
          "name": "stdout",
          "output_type": "stream",
          "text": [
            "================================\u001b[1m Human Message \u001b[0m=================================\n",
            "\n",
            "How many realtors are present in the database and what is the average number of contacts?\n",
            "==================================\u001b[1m Ai Message \u001b[0m==================================\n",
            "Tool Calls:\n",
            "  sql_db_list_tables (41a3ec23-0548-4a73-a584-68f7dd57ef56)\n",
            " Call ID: 41a3ec23-0548-4a73-a584-68f7dd57ef56\n",
            "  Args:\n",
            "=================================\u001b[1m Tool Message \u001b[0m=================================\n",
            "Name: sql_db_list_tables\n",
            "\n",
            "realtors\n",
            "==================================\u001b[1m Ai Message \u001b[0m==================================\n",
            "Tool Calls:\n",
            "  sql_db_schema (6e092e97-2409-4295-9361-701533b57659)\n",
            " Call ID: 6e092e97-2409-4295-9361-701533b57659\n",
            "  Args:\n",
            "    table_names: realtors\n",
            "=================================\u001b[1m Tool Message \u001b[0m=================================\n",
            "Name: sql_db_schema\n",
            "\n",
            "\n",
            "CREATE TABLE realtors (\n",
            "\t\"index\" INTEGER, \n",
            "\tkw_uid TEXT, \n",
            "\theatseeker TEXT, \n",
            "\t\"FLAGGED_CHURN_REALTORS\" TEXT, \n",
            "\t\"CAP_SEGMENT\" TEXT, \n",
            "\t\"SOLD_UNITS\" TEXT, \n",
            "\tfirst_name TEXT, \n",
            "\tlast_name TEXT, \n",
            "\tluxury TEXT, \n",
            "\tcommercial TEXT, \n",
            "\tland TEXT, \n",
            "\tmilitary TEXT, \n",
            "\tmaps_client TEXT, \n",
            "\tmaps_mastery_client TEXT, \n",
            "\t\"Designs\" TEXT, \n",
            "\t\"SmartPlans\" TEXT, \n",
            "\t\"Tasks\" TEXT, \n",
            "\t\"Interactions\" TEXT, \n",
            "\t\"Referrals\" TEXT, \n",
            "\t\"Campaigns\" TEXT, \n",
            "\t\"Opportunities\" TEXT, \n",
            "\t\"Contacts\" TEXT, \n",
            "\tactive_contact_count TEXT\n",
            ")\n",
            "\n",
            "/*\n",
            "3 rows from realtors table:\n",
            "index\tkw_uid\theatseeker\tFLAGGED_CHURN_REALTORS\tCAP_SEGMENT\tSOLD_UNITS\tfirst_name\tlast_name\tluxury\tcommercial\tland\tmilitary\tmaps_client\tmaps_mastery_client\tDesigns\tSmartPlans\tTasks\tInteractions\tReferrals\tCampaigns\tOpportunities\tContacts\tactive_contact_count\n",
            "0\t304159\t0.135\t0\tZero\t0E-9\tLisa A.\tFoy\t0\t0\t0\t0\t0\t0\t0\t0\t4\t0\t0\t0\t2\t2\t2\n",
            "1\t2000052033\t0.216\t1\t0\t0E-9\tOlga\tCarikcioglu\t0\t0\t0\t0\t0\t0\t0\t0\t6\t2\t0\t0\t1\t2\t4\n",
            "2\t467498\t0.217\t1\tZero\t0E-9\tRyan\tMcDonough\t0\t0\t0\t0\t0\t0\t0\t0\t0\t15\t0\t0\t0\t15\t21\n",
            "*/\n",
            "==================================\u001b[1m Ai Message \u001b[0m==================================\n",
            "Tool Calls:\n",
            "  sql_db_query (e0407e1f-ab5e-4098-ab98-37d9c6d6328f)\n",
            " Call ID: e0407e1f-ab5e-4098-ab98-37d9c6d6328f\n",
            "  Args:\n",
            "    query: SELECT COUNT(*) AS num_realtors FROM realtors\n",
            "=================================\u001b[1m Tool Message \u001b[0m=================================\n",
            "Name: sql_db_query\n",
            "\n",
            "[(49495,)]\n",
            "==================================\u001b[1m Ai Message \u001b[0m==================================\n",
            "\n",
            "There are 49495 realtors in the database.\n",
            "Tool Calls:\n",
            "  sql_db_query (9ced89e2-5c8d-4379-9037-c9ba1e338e07)\n",
            " Call ID: 9ced89e2-5c8d-4379-9037-c9ba1e338e07\n",
            "  Args:\n",
            "    query: SELECT AVG(CAST(active_contact_count AS REAL)) AS avg_contacts FROM realtors\n",
            "=================================\u001b[1m Tool Message \u001b[0m=================================\n",
            "Name: sql_db_query\n",
            "\n",
            "[(299.8190928376604,)]\n",
            "==================================\u001b[1m Ai Message \u001b[0m==================================\n",
            "\n",
            "There are 49495 realtors in the database and the average number of contacts is 299.82.\n"
          ]
        }
      ],
      "source": [
        "#Test a qeury with the SQL agent\n",
        "query=\"How many realtors are present in the database and what is the average number of contacts?\"\n",
        "\n",
        "events = sql_agent_executor.stream(\n",
        "     {\"messages\": [HumanMessage(content=query)]},\n",
        "     stream_mode=\"values\",\n",
        ")\n",
        "\n",
        "for event in events:\n",
        "   event[\"messages\"][-1].pretty_print()\n",
        "   message_content= event[\"messages\"][-1].content\n",
        "   if \"Answer:\" in message_content:\n",
        "      final_answer=message_content.split(\"Answer:\",1)[1].strip()"
      ]
    },
    {
      "cell_type": "markdown",
      "id": "ikWfsjEw-sL1",
      "metadata": {
        "id": "ikWfsjEw-sL1"
      },
      "source": [
        "# Set-up RAG Agent"
      ]
    },
    {
      "cell_type": "code",
      "execution_count": 42,
      "id": "eTV3vToePeKy",
      "metadata": {
        "id": "eTV3vToePeKy"
      },
      "outputs": [],
      "source": [
        "from langchain_core.prompts import ChatPromptTemplate\n",
        "\n",
        "RAG_PROMPT = \"\"\"\n",
        "CONTEXT:\n",
        "{context}\n",
        "\n",
        "QUERY:\n",
        "{question}\n",
        "\n",
        "Use only the provided context information to form your response. If an answer can not be found within the provided context information respond with 'The answer could not be found in the provided context.\".\n",
        "\n",
        "\"\"\"\n",
        "\n",
        "rag_prompt = ChatPromptTemplate.from_template(RAG_PROMPT)"
      ]
    },
    {
      "cell_type": "code",
      "execution_count": 43,
      "id": "f_CVgKq6LLq4",
      "metadata": {
        "id": "f_CVgKq6LLq4"
      },
      "outputs": [],
      "source": [
        "from operator import itemgetter\n",
        "from langchain.schema.output_parser import StrOutputParser\n",
        "\n",
        "#rag_chain = (\n",
        "#    {\"context\": itemgetter(\"question\") | retriever, \"question\": itemgetter(\"question\")}\n",
        "#    | rag_prompt | llm | StrOutputParser()\n",
        "#)\n",
        "\n",
        "from langchain_core.runnables import RunnablePassthrough\n",
        "\n",
        "rag_chain = (\n",
        "    {\"context\": retriever | format_docs, \"question\": RunnablePassthrough()}\n",
        "    | rag_prompt\n",
        "    | llm\n",
        "    | StrOutputParser()\n",
        ")"
      ]
    },
    {
      "cell_type": "code",
      "execution_count": 44,
      "id": "xMxjk05dLanK",
      "metadata": {
        "colab": {
          "base_uri": "https://localhost:8080/",
          "height": 53
        },
        "id": "xMxjk05dLanK",
        "outputId": "968ce040-10bf-41c4-8e6c-a38a72a70d33"
      },
      "outputs": [
        {
          "data": {
            "application/vnd.google.colaboratory.intrinsic+json": {
              "type": "string"
            },
            "text/plain": [
              "'Based on the provided text, the most frequently mentioned Keller Williams coaching programs with \"Full Cap\" status are:\\n\\n* Mastery Coaching Program\\n* Breakthrough Coaching Program\\n* Performance Agent Full Cap\\n'"
            ]
          },
          "execution_count": 44,
          "metadata": {},
          "output_type": "execute_result"
        }
      ],
      "source": [
        "# rag_chain.invoke({\"question\" : \"What are some of the most popular coaching programs in the Full Cap status?\"})\n",
        "rag_chain.invoke(\"What are some of the most popular coaching programs in the Full Cap status?\")"
      ]
    },
    {
      "cell_type": "code",
      "execution_count": 45,
      "id": "r_zJAMCdNdfX",
      "metadata": {
        "id": "r_zJAMCdNdfX"
      },
      "outputs": [],
      "source": [
        "from typing import Annotated, List, Tuple, Union\n",
        "from langchain_core.tools import tool\n",
        "\n",
        "@tool\n",
        "def retrieve_information(\n",
        "    query: Annotated[str, \"query to ask the retrieve information tool\"]\n",
        "    ):\n",
        "  \"\"\"Use Retrieval Augmented Generation to retrieve information.\"\"\"\n",
        "  #return rag_chain.invoke({\"question\" : query})\n",
        "  return rag_chain.invoke(query)"
      ]
    },
    {
      "cell_type": "code",
      "execution_count": 46,
      "id": "CUdZM-25Ndm-",
      "metadata": {
        "id": "CUdZM-25Ndm-"
      },
      "outputs": [],
      "source": [
        "tools = [retrieve_information]"
      ]
    },
    {
      "cell_type": "markdown",
      "id": "c_reueFIeCze",
      "metadata": {
        "id": "c_reueFIeCze"
      },
      "source": [
        "# Utilities"
      ]
    },
    {
      "cell_type": "code",
      "execution_count": null,
      "id": "U4VmEoJ7qVCJ",
      "metadata": {
        "id": "U4VmEoJ7qVCJ"
      },
      "outputs": [],
      "source": [
        "## Structured Output Enforcement\n",
        "#class RealterInfoResponse(BaseModel):\n",
        "#    \"\"\"Respond to the user with this\"\"\"\n",
        "\n",
        "#    AGENT_ACHIEVEMENT_DESCRIPTION_AS_WAS: str = Field(description=\"What cap segment the realtor is in\")\n",
        "#    first_name: str = Field(description=\"First name of the realtor\")\n",
        "#    Contacts: float = Field(description=\"Number of contacts\")\n",
        "#    SmartPlans: float = Field(description=\"Usage of smartplans\")\n",
        "\n"
      ]
    },
    {
      "cell_type": "code",
      "execution_count": null,
      "id": "-NTlKT_5zKGE",
      "metadata": {
        "id": "-NTlKT_5zKGE"
      },
      "outputs": [],
      "source": [
        "## Structured Output Enforcement\n",
        "#model_with_tools = llm.bind_tools([RealterInfoResponse])"
      ]
    },
    {
      "cell_type": "code",
      "execution_count": 40,
      "id": "GHN66A1QDmA_",
      "metadata": {
        "id": "GHN66A1QDmA_"
      },
      "outputs": [],
      "source": [
        "# The agent state is the input to each node in the graph\n",
        "class AgentState(MessagesState):\n",
        "    # The 'next' field indicates where to route to next\n",
        "    next: str\n",
        "    # Structured Output Enforcement\n",
        "    #final_response: RealterInfoResponse"
      ]
    },
    {
      "cell_type": "code",
      "execution_count": 47,
      "id": "B3Ij72VceCIp",
      "metadata": {
        "id": "B3Ij72VceCIp"
      },
      "outputs": [],
      "source": [
        "members = [\"PDF_analyst\", \"Sql_agent\"]\n",
        "options = [\"FINISH\"] + members\n",
        "\n",
        "# The agent state is the input to each node in the graph\n",
        "class AgentState(MessagesState):\n",
        "    # The 'next' field indicates where to route to next\n",
        "    next: str\n",
        "\n",
        "\n",
        "def make_supervisor_node(llm: llm, members: list[str]) -> str:\n",
        "    options = [\"FINISH\"] + members\n",
        "    system_prompt = (\n",
        "        \"You are a supervisor tasked with managing a conversation between the\"\n",
        "        f\" following workers: {members}. Given the following user request,\"\n",
        "        \" respond with the worker to act next. Each worker will perform a\"\n",
        "        \" task and respond with their results and status. When finished,\"\n",
        "        \" respond with FINISH.\"\n",
        "    )\n",
        "\n",
        "    class Router(BaseModel):\n",
        "        \"\"\"Worker to route to next. If no workers needed, route to FINISH.\"\"\"\n",
        "\n",
        "        #next: Literal[\"FINISH\",\"PDF_Analyst\",\"Sql_agent\"]\n",
        "        next: Literal[(*options,)]\n",
        "\n",
        "    def supervisor_node(state: MessagesState) -> MessagesState:\n",
        "        \"\"\"An LLM-based router.\"\"\"\n",
        "        messages = [\n",
        "            {\"role\": \"system\", \"content\": system_prompt},\n",
        "        ] + state[\"messages\"]\n",
        "        response = llm.with_structured_output(Router).invoke(messages)\n",
        "        next_ = response.next\n",
        "        if next_ == \"FINISH\":\n",
        "            next_ = END\n",
        "\n",
        "        return {\"next\": next_}\n",
        "\n",
        "    return supervisor_node"
      ]
    },
    {
      "cell_type": "markdown",
      "id": "jiGPaxUuA3Rd",
      "metadata": {
        "id": "jiGPaxUuA3Rd"
      },
      "source": [
        "# Initialize the Research Agents"
      ]
    },
    {
      "cell_type": "code",
      "execution_count": 48,
      "id": "apsqa8ePB9nB",
      "metadata": {
        "id": "apsqa8ePB9nB"
      },
      "outputs": [],
      "source": [
        "rag_agent = create_react_agent(llm, tools=tools, state_modifier=\"You should provide RAG search.\")\n",
        "#rag_node = functools.partial(agent_node, agent=rag_agent, name=\"PDF_analyst\")\n",
        "\n",
        "def rag_node(state: AgentState) -> AgentState:\n",
        "    result = rag_agent.invoke(state)\n",
        "    return {\n",
        "        \"messages\": [\n",
        "            HumanMessage(content=result[\"messages\"][-1].content, name=\"PDF_Analyst\")\n",
        "        ]\n",
        "    }\n",
        "\n",
        "\n",
        "sql_agent = create_react_agent(llm, tools=toolkit.get_tools(), state_modifier=MSSQL_AGENT_SUFFIX_WITH_MEMORY)\n",
        "#sql_node = functools.partial(agent_node, agent=sql_agent, name=\"Sql_agent\")\n",
        "def sql_node(state: AgentState) -> AgentState:\n",
        "    result = sql_agent.invoke(state)\n",
        "    return {\n",
        "        \"messages\": [HumanMessage(content=result[\"messages\"][-1].content, name=\"Sql_agent\")]\n",
        "    }\n",
        "\n",
        "research_supervisor_node = make_supervisor_node(llm, [\"PDF_Analyst\", \"Sql_agent\"])\n",
        "\n"
      ]
    },
    {
      "cell_type": "markdown",
      "id": "rXvk3FYTCA6a",
      "metadata": {
        "id": "rXvk3FYTCA6a"
      },
      "source": [
        "# Create the Research Workflow"
      ]
    },
    {
      "cell_type": "code",
      "execution_count": 49,
      "id": "BQa_y5yECCqX",
      "metadata": {
        "id": "BQa_y5yECCqX"
      },
      "outputs": [],
      "source": [
        "research_builder = StateGraph(MessagesState)\n",
        "research_builder.add_node(\"supervisor\", research_supervisor_node)\n",
        "research_builder.add_node(\"PDF_Analyst\", rag_node)\n",
        "research_builder.add_node(\"Sql_agent\", sql_node)\n",
        "\n",
        "# Define the control flow\n",
        "research_builder.add_edge(START, \"supervisor\")\n",
        "# We want our workers to ALWAYS \"report back\" to the supervisor when done\n",
        "research_builder.add_edge(\"PDF_Analyst\", \"supervisor\")\n",
        "research_builder.add_edge(\"Sql_agent\", \"supervisor\")\n",
        "# Add the edges where routing applies\n",
        "research_builder.add_conditional_edges(\"supervisor\", lambda state: state[\"next\"])\n",
        "\n",
        "research_graph = research_builder.compile()"
      ]
    },
    {
      "cell_type": "code",
      "execution_count": 50,
      "id": "9QxSp4ddCQ_5",
      "metadata": {
        "colab": {
          "base_uri": "https://localhost:8080/",
          "height": 266
        },
        "id": "9QxSp4ddCQ_5",
        "outputId": "cd39b103-cd10-4162-c36b-09503050e47a"
      },
      "outputs": [
        {
          "data": {
            "image/png": "[encoded data removed]",
            "text/plain": [
              "<IPython.core.display.Image object>"
            ]
          },
          "metadata": {},
          "output_type": "display_data"
        }
      ],
      "source": [
        "from IPython.display import Image, display\n",
        "\n",
        "display(Image(research_graph.get_graph().draw_mermaid_png()))"
      ]
    },
    {
      "cell_type": "markdown",
      "id": "8v_rjTN3G3pC",
      "metadata": {
        "id": "8v_rjTN3G3pC"
      },
      "source": [
        "# Research Results"
      ]
    },
    {
      "cell_type": "code",
      "execution_count": 51,
      "id": "TbAqLq_oG3AZ",
      "metadata": {
        "colab": {
          "base_uri": "https://localhost:8080/"
        },
        "id": "TbAqLq_oG3AZ",
        "outputId": "20178231-2994-4606-a646-83a696f09d15"
      },
      "outputs": [
        {
          "name": "stdout",
          "output_type": "stream",
          "text": [
            "{'supervisor': {'next': 'PDF_Analyst'}}\n",
            "----\n",
            "{'PDF_Analyst': {'messages': [HumanMessage(content='I am sorry, I do not have access to real-time information, including specific details about Keller Williams coaching programs and their tags.  My knowledge about this topic is limited.  To find the top 3 Keller Williams coaching programs tagged \"Full Cap,\" I recommend checking the official Keller Williams website or contacting them directly.\\n', additional_kwargs={}, response_metadata={}, name='PDF_Analyst', id='1f3e8dfd-8acd-465c-9466-3fb3eac340d6')]}}\n",
            "----\n",
            "{'supervisor': {'next': '__end__'}}\n",
            "----\n"
          ]
        }
      ],
      "source": [
        "query = \"What are the top 3 keller williams coaching programs tagged Full Cap?\"\n",
        "\n",
        "input_data = {\"query\": query}\n",
        "\n",
        "for s in research_graph.stream(\n",
        "    {\n",
        "        \"messages\": [\n",
        "            HumanMessage(content=input_data['query'])\n",
        "        ]\n",
        "    }\n",
        "):\n",
        "    if \"__end__\" not in s:\n",
        "        print(s)\n",
        "        print(\"----\")"
      ]
    },
    {
      "cell_type": "code",
      "execution_count": 52,
      "id": "0kwnsQti4I4k",
      "metadata": {
        "colab": {
          "base_uri": "https://localhost:8080/"
        },
        "id": "0kwnsQti4I4k",
        "outputId": "2a826228-02a8-43d9-b809-a6d22fc0a330"
      },
      "outputs": [
        {
          "name": "stdout",
          "output_type": "stream",
          "text": [
            "{'supervisor': {'next': 'Sql_agent'}}\n",
            "----\n",
            "{'Sql_agent': {'messages': [HumanMessage(content='There are 49495 realtors in the database and the average number of contacts is 299.82.\\n', additional_kwargs={}, response_metadata={}, name='Sql_agent', id='4084ad65-d154-48db-9780-9819351c35b6')]}}\n",
            "----\n",
            "{'supervisor': {'next': '__end__'}}\n",
            "----\n"
          ]
        }
      ],
      "source": [
        "query = \"How many realtors are present in the database and what is the average count contacts?\"\n",
        "\n",
        "input_data = {\"query\": query}\n",
        "\n",
        "for s in research_graph.stream(\n",
        "    {\n",
        "        \"messages\": [\n",
        "            HumanMessage(content=input_data['query'])\n",
        "        ]\n",
        "    }\n",
        "):\n",
        "    if \"__end__\" not in s:\n",
        "        print(s)\n",
        "        print(\"----\")"
      ]
    },
    {
      "cell_type": "markdown",
      "id": "N1vN9ozP2jBh",
      "metadata": {
        "id": "N1vN9ozP2jBh"
      },
      "source": [
        "# Initialize the Writing Agents"
      ]
    },
    {
      "cell_type": "code",
      "execution_count": 53,
      "id": "a5vb-dBO2DuU",
      "metadata": {
        "id": "a5vb-dBO2DuU"
      },
      "outputs": [],
      "source": [
        "def call_model(state: MessagesState):\n",
        "    # add any logic to customize model system message etc here\n",
        "    response = llm.invoke(state[\"messages\"])\n",
        "    return {\"messages\": [response]}\n",
        "\n",
        "builder_writer = StateGraph(MessagesState)\n",
        "builder_writer.add_node(call_model)\n",
        "builder_writer.add_edge(START, \"call_model\")\n",
        "\n",
        "writer_graph = builder_writer.compile()"
      ]
    },
    {
      "cell_type": "code",
      "execution_count": 54,
      "id": "O5IIhlm02jAm",
      "metadata": {
        "colab": {
          "base_uri": "https://localhost:8080/",
          "height": 151
        },
        "id": "O5IIhlm02jAm",
        "outputId": "66db4225-1b2c-4324-883b-6b4420c8e6b6"
      },
      "outputs": [
        {
          "data": {
            "image/png": "[encoded data removed]",
            "text/plain": [
              "<IPython.core.display.Image object>"
            ]
          },
          "metadata": {},
          "output_type": "display_data"
        }
      ],
      "source": [
        "from IPython.display import Image, display\n",
        "from langchain_core.runnables.graph import MermaidDrawMethod\n",
        "\n",
        "display(\n",
        "    Image(\n",
        "        writer_graph.get_graph().draw_mermaid_png(\n",
        "            draw_method=MermaidDrawMethod.API,\n",
        "        )\n",
        "    )\n",
        ")"
      ]
    },
    {
      "cell_type": "code",
      "execution_count": 55,
      "id": "ON-MlQ852jU6",
      "metadata": {
        "colab": {
          "base_uri": "https://localhost:8080/"
        },
        "id": "ON-MlQ852jU6",
        "outputId": "cd145b8a-4735-48cf-f1e2-f8e24717b6a6"
      },
      "outputs": [
        {
          "name": "stdout",
          "output_type": "stream",
          "text": [
            "{'call_model': {'messages': [AIMessage(content=\"A realtor, or real estate agent, acts as an intermediary between buyers and sellers of properties.  Their core responsibilities revolve around facilitating real estate transactions, which includes a wide range of activities:\\n\\n**For Sellers:**\\n\\n* **Listing Properties:**  Marketing properties for sale, including taking photos, writing descriptions, and determining a competitive listing price.\\n* **Showing Properties:**  Conducting showings for prospective buyers, answering questions, and providing information about the property and the surrounding area.\\n* **Negotiating Offers:**  Presenting offers to sellers, negotiating terms and conditions, and helping sellers make informed decisions.\\n* **Managing Paperwork:**  Handling all the necessary paperwork involved in the sale, including contracts, disclosures, and closing documents.\\n* **Marketing and Advertising:** Utilizing various marketing channels (online listings, open houses, etc.) to attract potential buyers.\\n\\n**For Buyers:**\\n\\n* **Finding Properties:**  Searching for properties that meet the buyer's needs and criteria, using their knowledge of the local market.\\n* **Showing Properties:**  Arranging and conducting showings of properties that match the buyer's preferences.\\n* **Negotiating Offers:**  Helping buyers make competitive offers, negotiating terms and conditions, and ensuring the best possible deal.\\n* **Managing Paperwork:**  Assisting buyers with all the necessary paperwork involved in the purchase.\\n* **Providing Market Advice:**  Offering guidance on market trends, pricing, and financing options.\\n\\n\\n**Beyond these core functions, realtors often:**\\n\\n* **Stay up-to-date on market trends:**  They need to have a strong understanding of local market conditions, including pricing, inventory, and demand.\\n* **Network extensively:**  Building relationships with other realtors, lenders, inspectors, and other professionals in the industry is crucial.\\n* **Handle legal and ethical considerations:**  They must adhere to strict ethical codes and legal requirements.\\n* **Provide advice and guidance:**  They act as advisors to their clients, offering expertise and support throughout the entire buying or selling process.\\n\\n\\nIn short, a realtor is more than just someone who shows houses; they are skilled negotiators, marketers, and advisors who guide clients through the complex process of buying or selling real estate.\\n\", additional_kwargs={}, response_metadata={'prompt_feedback': {'block_reason': 0, 'safety_ratings': []}, 'finish_reason': 'STOP', 'safety_ratings': []}, id='run-8458e7f2-9705-418d-8cfd-b860e168a5c0-0', usage_metadata={'input_tokens': 7, 'output_tokens': 460, 'total_tokens': 467, 'input_token_details': {'cache_read': 0}})]}}\n",
            "----\n"
          ]
        }
      ],
      "source": [
        "query = \"Describe what a realtor does?\"\n",
        "\n",
        "input_data = {\"query\": query}\n",
        "\n",
        "for s in writer_graph.stream(\n",
        "    {\n",
        "        \"messages\": [\n",
        "            HumanMessage(content=input_data['query'])\n",
        "        ]\n",
        "    }\n",
        "):\n",
        "    if \"__end__\" not in s:\n",
        "        print(s)\n",
        "        print(\"----\")"
      ]
    },
    {
      "cell_type": "markdown",
      "id": "yavrq57Ff_uy",
      "metadata": {
        "id": "yavrq57Ff_uy"
      },
      "source": [
        "# Add Layers"
      ]
    },
    {
      "cell_type": "code",
      "execution_count": 57,
      "id": "tHZ-fcGAf-ke",
      "metadata": {
        "id": "tHZ-fcGAf-ke"
      },
      "outputs": [],
      "source": [
        "prompt_message_super=\"\"\"You are a supervisor tasked with managing a conversation between the following workers: {{members_super}}.\n",
        "Given the following user request, respond with the worker to act next. Each worker will perform a task and respond with their results and status. If the conversation is over, respond with 'FINISH'.\n",
        "\n",
        "Create a nicely formatted example email for the first realtor that is identified as going to churn based upon the\n",
        "        first kw_uid from the list. Make sure to adhere to the following:\n",
        "        1. Address the realtor with the content of the \"First Name\" field.\n",
        "        2. Indicate in which CAP segment the realtor is currently residing in.\n",
        "        3. Recommend a couple of coaching programs that realtors are taking in the next CAP segment up.\n",
        "          Suggest that if they are looking for something else suggest contacting their MAPS coach.\n",
        "        4. If the number of active_contact_count from the realtor is less than 201 please call this out in that this has been proven out to be correlated with higher production.\n",
        "        5. Evalaute if the realtor has any usage with SmartPlans and if 0 suggest the use of SmartPlans as a tool to engage with their contacts.\n",
        "        6. Make sure it is a positive and constructive message.\n",
        "        7. Sign off with The Keller Williams Team\n",
        "\n",
        " \"\"\""
      ]
    },
    {
      "cell_type": "code",
      "execution_count": 58,
      "id": "52dfBhVPQH1r",
      "metadata": {
        "id": "52dfBhVPQH1r"
      },
      "outputs": [],
      "source": [
        "teams_supervisor_node = make_supervisor_node(llm, [\"research_team\", \"writing_team\"])"
      ]
    },
    {
      "cell_type": "code",
      "execution_count": 59,
      "id": "USBSaVQDgyO9",
      "metadata": {
        "id": "USBSaVQDgyO9"
      },
      "outputs": [],
      "source": [
        "def call_research_team(state: AgentState) -> AgentState:\n",
        "    response = research_graph.invoke({\"messages\": state[\"messages\"][-1]})\n",
        "    return {\n",
        "        \"messages\": [\n",
        "            HumanMessage(content=response[\"messages\"][-1].content, name=\"research_team\")\n",
        "        ]\n",
        "    }\n",
        "\n",
        "\n",
        "def call_paper_writing_team(state: AgentState) -> AgentState:\n",
        "    response = writer_graph.invoke({\"messages\": state[\"messages\"][-1]})\n",
        "    return {\n",
        "        \"messages\": [\n",
        "            HumanMessage(content=response[\"messages\"][-1].content, name=\"writing_team\")\n",
        "        ]\n",
        "    }\n",
        "\n"
      ]
    },
    {
      "cell_type": "code",
      "execution_count": 60,
      "id": "8IxNnLZQgyRa",
      "metadata": {
        "colab": {
          "base_uri": "https://localhost:8080/"
        },
        "id": "8IxNnLZQgyRa",
        "outputId": "9d6d6cab-8e16-4401-e490-447945e186c1"
      },
      "outputs": [
        {
          "data": {
            "text/plain": [
              "<langgraph.graph.state.StateGraph at 0x7932df012500>"
            ]
          },
          "execution_count": 60,
          "metadata": {},
          "output_type": "execute_result"
        }
      ],
      "source": [
        "# Define the graph.\n",
        "super_builder = StateGraph(AgentState)\n",
        "super_builder.add_node(\"supervisor_super\", teams_supervisor_node)\n",
        "super_builder.add_node(\"research_team\", call_research_team)\n",
        "super_builder.add_node(\"writing_team\", call_paper_writing_team)"
      ]
    },
    {
      "cell_type": "code",
      "execution_count": 61,
      "id": "EswBiBjegyT7",
      "metadata": {
        "id": "EswBiBjegyT7"
      },
      "outputs": [],
      "source": [
        "# Define the control flow\n",
        "super_builder.add_edge(START, \"supervisor_super\")\n",
        "# We want our teams to ALWAYS \"report back\" to the top-level supervisor when done\n",
        "super_builder.add_edge(\"research_team\", \"supervisor_super\")\n",
        "super_builder.add_edge(\"writing_team\", \"supervisor_super\")\n",
        "# Add the edges where routing applies\n",
        "super_builder.add_conditional_edges(\"supervisor_super\", lambda state: state[\"next\"])\n",
        "super_graph = super_builder.compile()"
      ]
    },
    {
      "cell_type": "code",
      "execution_count": 62,
      "id": "ImsNXPxAgyWw",
      "metadata": {
        "colab": {
          "base_uri": "https://localhost:8080/",
          "height": 266
        },
        "id": "ImsNXPxAgyWw",
        "outputId": "9c955a6d-c5ac-4f54-c86e-37999f1d19ae"
      },
      "outputs": [
        {
          "data": {
            "image/png": "[encoded data removed]",
            "text/plain": [
              "<IPython.core.display.Image object>"
            ]
          },
          "metadata": {},
          "output_type": "display_data"
        }
      ],
      "source": [
        "from IPython.display import Image, display\n",
        "\n",
        "display(Image(super_graph.get_graph().draw_mermaid_png()))"
      ]
    },
    {
      "cell_type": "code",
      "execution_count": 63,
      "id": "a-WWqObBgyZg",
      "metadata": {
        "colab": {
          "base_uri": "https://localhost:8080/"
        },
        "id": "a-WWqObBgyZg",
        "outputId": "5a3ca9e9-473f-4cf7-cf92-64824f1f7f0b"
      },
      "outputs": [
        {
          "name": "stdout",
          "output_type": "stream",
          "text": [
            "{'supervisor_super': {'next': 'research_team'}}\n",
            "---\n",
            "{'research_team': {'messages': [HumanMessage(content='Worker 3: I\\'ve formatted the email and reviewed it. Here\\'s the final version:\\n\\nSubject: Checking In and Sharing Some Helpful Resources\\n\\nHi John,\\n\\nI hope this email finds you well. I\\'m writing to you today as part of our ongoing efforts to support your success here at Keller Williams. I see you\\'re currently in the Silver CAP segment, and I wanted to share some resources that might help you advance to the next level.\\n\\nWe\\'ve found that increased engagement with our coaching programs is strongly correlated with higher production. For the next CAP segment, I recommend exploring the \"Lead Generation Strategies\" and \"Mastering Client Communication\" workshops. If these don\\'t quite fit your needs, please don\\'t hesitate to reach out to your MAPS coach for personalized recommendations.\\n\\nYour current active contact count is 150. While this is a good number, we\\'ve seen that maintaining an active contact count of over 200 is often associated with even greater success. Consider exploring strategies to expand your network and engage with more potential clients.\\n\\nI also noticed that you haven\\'t yet utilized SmartPlans. This powerful tool can significantly improve your contact engagement and lead nurturing. I highly encourage you to explore SmartPlans and see how it can streamline your workflow and boost your productivity.\\n\\nWe\\'re committed to your success, John. Please let me know if you have any questions or would like to discuss these suggestions further.\\n\\nBest regards,\\n\\nThe Keller Williams Team\\n\\nNext Worker: FINISH\\n', additional_kwargs={}, response_metadata={}, name='research_team', id='931d294a-b96f-4827-aa4c-fb91626be037')]}}\n",
            "---\n",
            "{'supervisor_super': {'next': '__end__'}}\n",
            "---\n"
          ]
        }
      ],
      "source": [
        "for s in super_graph.stream(\n",
        "    {\n",
        "        \"messages\": [\n",
        "            (\"user\", prompt_message_super)\n",
        "        ],\n",
        "    },\n",
        "    {\"recursion_limit\": 150},\n",
        "):\n",
        "    print(s)\n",
        "    print(\"---\")"
      ]
    }
  ],
  "metadata": {
    "colab": {
      "name": "AgenticAI_LangGraph_Hier.ipynb",
      "provenance": []
    },
    "kernelspec": {
      "display_name": "Python 3",
      "language": "python",
      "name": "python3"
    },
    "language_info": {
      "codemirror_mode": {
        "name": "ipython",
        "version": 3
      },
      "file_extension": ".py",
      "mimetype": "text/x-python",
      "name": "python",
      "nbconvert_exporter": "python",
      "pygments_lexer": "ipython3",
      "version": "3.10.10"
    }
  },
  "nbformat": 4,
  "nbformat_minor": 5
}
